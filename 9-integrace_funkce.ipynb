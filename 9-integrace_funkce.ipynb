{
 "cells": [
  {
   "cell_type": "code",
   "execution_count": 20,
   "metadata": {},
   "outputs": [
    {
     "name": "stdout",
     "output_type": "stream",
     "text": [
      "Integrál při použití lichoběžníkové metody = 46.87715049999945\n",
      "Integrál při použití Newton-Cotesovy metody = 46.666749999999986\n",
      "Integrál za použití knihovny NumPy = 46.66675000000001\n"
     ]
    }
   ],
   "source": [
    "def f(x):\n",
    "    return x**2 - 2*x + 6\n",
    "\n",
    "a = 0\n",
    "b = 5\n",
    "dx = 0.01\n",
    "\n",
    "# lichoběžníková metoda\n",
    "integral = 0\n",
    "x = a\n",
    "while x < b:\n",
    "    integral += dx * (f(x) + f(x+dx))/2\n",
    "    x += dx\n",
    "print(f\"Integrál při použití lichoběžníkové metody = {integral}\")\n",
    "\n",
    "# Newton-Cotesova metoda\n",
    "n = int((b-a)//dx)+1                # počet dělení\n",
    "integral = f(a) + f(b)              # násobení h/2 až na konci\n",
    "for i in range(1, n):\n",
    "    integral += 2*f(a+i*dx)\n",
    "integral *= dx/2\n",
    "print(f\"Integrál při použití Newton-Cotesovy metody = {integral}\")\n",
    "\n",
    "# pomocí numpy\n",
    "import numpy as np\n",
    "x = np.arange(a, b+dx, dx)\n",
    "y = f(x)\n",
    "print(f\"Integrál za použití knihovny NumPy = {np.trapz(y, dx=dx)}\")  "
   ]
  },
  {
   "cell_type": "code",
   "execution_count": 24,
   "metadata": {},
   "outputs": [
    {
     "name": "stdout",
     "output_type": "stream",
     "text": [
      "Integrál při použití lichoběžníkové metody = 42.14662283519919\n",
      "Integrál při použití Newton-Cotesovy metody = 42.07753028990468\n",
      "Integrál za použití knihovny NumPy = 42.07753028990464\n"
     ]
    }
   ],
   "source": [
    "def f(x):\n",
    "    return 3 * np.log(x)\n",
    "\n",
    "a = 1\n",
    "b = 10\n",
    "dx = 0.01\n",
    "\n",
    "# lichoběžníková metoda\n",
    "integral = 0\n",
    "x = a\n",
    "while x < b:\n",
    "    integral += dx * (f(x) + f(x+dx))/2\n",
    "    x += dx\n",
    "print(f\"Integrál při použití lichoběžníkové metody = {integral}\")\n",
    "\n",
    "# Newton-Cotesova metoda\n",
    "n = int((b-a)//dx)+1                # počet dělení\n",
    "integral = f(a) + f(b)              # násobení h/2 až na konci\n",
    "for i in range(1, n):\n",
    "    integral += 2*f(a+i*dx)\n",
    "integral *= dx/2\n",
    "print(f\"Integrál při použití Newton-Cotesovy metody = {integral}\")\n",
    "\n",
    "# pomocí numpy\n",
    "import numpy as np\n",
    "x = np.arange(a, b+dx, dx)\n",
    "y = f(x)\n",
    "print(f\"Integrál za použití knihovny NumPy = {np.trapz(y, dx=dx)}\")  "
   ]
  },
  {
   "cell_type": "code",
   "execution_count": 23,
   "metadata": {},
   "outputs": [
    {
     "name": "stdout",
     "output_type": "stream",
     "text": [
      "Lichoběžníková metoda: 14.04887427839971\n",
      "Newton-Cotesova metoda: 14.025843429968205\n",
      "NumPy: 14.02584342996821\n"
     ]
    }
   ],
   "source": [
    "import numpy as np\n",
    "\n",
    "# Definice funkce s přirozeným logaritmem\n",
    "def f(x):\n",
    "    return np.log(x)\n",
    "\n",
    "a = 1\n",
    "b = 10\n",
    "dx = 0.01\n",
    "\n",
    "# Lichoběžníková metoda\n",
    "integral = 0\n",
    "x = a\n",
    "while x < b:\n",
    "    integral += dx * (f(x) + f(x+dx))/2\n",
    "    x += dx\n",
    "print(\"Lichoběžníková metoda:\", integral)\n",
    "\n",
    "# Newton-Cotesova metoda\n",
    "n = int((b-a)//dx)+1                # počet dělení\n",
    "integral = f(a) + f(b)              # násobení h/2 až na konci\n",
    "for i in range(1, n):\n",
    "    integral += 2*f(a+i*dx)\n",
    "integral *= dx/2\n",
    "print(\"Newton-Cotesova metoda:\", integral)\n",
    "\n",
    "# Pomocí NumPy\n",
    "x = np.arange(a, b+dx, dx)\n",
    "y = f(x)\n",
    "print(\"NumPy:\", np.trapz(y, dx=dx))\n"
   ]
  }
 ],
 "metadata": {
  "kernelspec": {
   "display_name": "Python 3",
   "language": "python",
   "name": "python3"
  },
  "language_info": {
   "codemirror_mode": {
    "name": "ipython",
    "version": 3
   },
   "file_extension": ".py",
   "mimetype": "text/x-python",
   "name": "python",
   "nbconvert_exporter": "python",
   "pygments_lexer": "ipython3",
   "version": "3.12.2"
  }
 },
 "nbformat": 4,
 "nbformat_minor": 2
}
