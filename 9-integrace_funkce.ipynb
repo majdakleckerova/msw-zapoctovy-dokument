{
 "cells": [
  {
   "cell_type": "code",
   "execution_count": 42,
   "metadata": {},
   "outputs": [
    {
     "name": "stdout",
     "output_type": "stream",
     "text": [
      "Integrál při použití lichoběžníkové metody = 46.87715049999945\n",
      "Integrál při použití Newton-Cotesovy metody = 46.666749999999986\n",
      "Integrál za použití knihovny NumPy = 46.66675000000001\n",
      "Integrál analyticky = 46.666666666666664\n"
     ]
    }
   ],
   "source": [
    "def f(x):\n",
    "    return x**2 - 2*x + 6\n",
    "\n",
    "a = 0\n",
    "b = 5\n",
    "dx = 0.01\n",
    "\n",
    "# lichoběžníková metoda\n",
    "integral = 0\n",
    "x = a\n",
    "while x < b:\n",
    "    integral += dx * (f(x) + f(x+dx))/2\n",
    "    x += dx\n",
    "integral_1_1 = integral\n",
    "print(f\"Integrál při použití lichoběžníkové metody = {integral_1_1}\")\n",
    "\n",
    "# Newton-Cotesova metoda\n",
    "n = int((b-a)//dx)+1                # počet dělení\n",
    "integral = f(a) + f(b)              # násobení h/2 až na konci\n",
    "for i in range(1, n):\n",
    "    integral += 2*f(a+i*dx)\n",
    "integral *= dx/2\n",
    "integral_1_2 = integral\n",
    "print(f\"Integrál při použití Newton-Cotesovy metody = {integral_1_2}\")\n",
    "\n",
    "# pomocí numpy\n",
    "import numpy as np\n",
    "x = np.arange(a, b+dx, dx)\n",
    "y = f(x)\n",
    "integral_1_3 = np.trapz(y, dx=dx)\n",
    "print(f\"Integrál za použití knihovny NumPy = {integral_1_3}\")  \n",
    "\n",
    "integral_analyticky_1 = 140/3\n",
    "print(f\"Integrál analyticky = {integral_analyticky_1}\")"
   ]
  },
  {
   "cell_type": "code",
   "execution_count": 43,
   "metadata": {},
   "outputs": [
    {
     "name": "stdout",
     "output_type": "stream",
     "text": [
      "Integrál při použití lichoběžníkové metody = 42.14662283519919\n",
      "Integrál při použití Newton-Cotesovy metody = 42.07753028990468\n",
      "Integrál za použití knihovny NumPy = 42.07753028990464\n",
      "Integrál analyticky = 42.07755278982138\n"
     ]
    }
   ],
   "source": [
    "def f(x):\n",
    "    return 3 * np.log(x)\n",
    "\n",
    "a = 1\n",
    "b = 10\n",
    "dx = 0.01\n",
    "\n",
    "# lichoběžníková metoda\n",
    "integral = 0\n",
    "x = a\n",
    "while x < b:\n",
    "    integral += dx * (f(x) + f(x+dx))/2\n",
    "    x += dx\n",
    "integral_2_1 = integral\n",
    "print(f\"Integrál při použití lichoběžníkové metody = {integral_2_1}\")\n",
    "\n",
    "# Newton-Cotesova metoda\n",
    "n = int((b-a)//dx)+1                # počet dělení\n",
    "integral = f(a) + f(b)              # násobení h/2 až na konci\n",
    "for i in range(1, n):\n",
    "    integral += 2*f(a+i*dx)\n",
    "integral *= dx/2\n",
    "integral_2_2 = integral\n",
    "print(f\"Integrál při použití Newton-Cotesovy metody = {integral_2_2}\")\n",
    "\n",
    "# pomocí numpy\n",
    "import numpy as np\n",
    "x = np.arange(a, b+dx, dx)\n",
    "y = f(x)\n",
    "integral_2_3 = np.trapz(y, dx=dx)\n",
    "print(f\"Integrál za použití knihovny NumPy = {integral_2_3}\")  \n",
    "\n",
    "integral_analyticky_2 = 30 * np.log(10) -27\n",
    "print(f\"Integrál analyticky = {integral_analyticky_2}\")"
   ]
  },
  {
   "cell_type": "code",
   "execution_count": 44,
   "metadata": {},
   "outputs": [
    {
     "name": "stdout",
     "output_type": "stream",
     "text": [
      "Integrál při použití lichoběžníkové metody = -75.19331312788789\n",
      "Integrál při použití Newton-Cotesovy metody = -75.0336483491455\n",
      "Integrál za použití knihovny NumPy = -75.03364834914552\n",
      "Integrál analyticky = -75.03368973499543\n"
     ]
    }
   ],
   "source": [
    "import numpy as np\n",
    "\n",
    "# Definice exponenciální funkce\n",
    "def f(x):\n",
    "    return 5* np.exp(-x) - 16\n",
    "\n",
    "a = 0\n",
    "b = 5\n",
    "dx = 0.01\n",
    "\n",
    "# Lichoběžníková metoda\n",
    "integral = 0\n",
    "x = a\n",
    "while x < b:\n",
    "    integral += dx * (f(x) + f(x+dx))/2\n",
    "    x += dx\n",
    "integral_3_1 = integral\n",
    "print(f\"Integrál při použití lichoběžníkové metody = {integral_3_1}\")\n",
    "\n",
    "# Newton-Cotesova metoda\n",
    "n = int((b-a)//dx)+1                # počet dělení\n",
    "integral = f(a) + f(b)              # násobení h/2 až na konci\n",
    "for i in range(1, n):\n",
    "    integral += 2*f(a+i*dx)\n",
    "integral *= dx/2\n",
    "integral_3_2 = integral\n",
    "print(f\"Integrál při použití Newton-Cotesovy metody = {integral_3_2}\")\n",
    "\n",
    "# Pomocí NumPy\n",
    "x = np.arange(a, b+dx, dx)\n",
    "y = f(x)\n",
    "integral_3_3 = np.trapz(y, dx=dx)\n",
    "print(f\"Integrál za použití knihovny NumPy = {integral_3_3}\")  \n",
    "\n",
    "integral_analyticky_3 = - (5 / (np.exp(5))) - 75\n",
    "print(f\"Integrál analyticky = {integral_analyticky_3}\")\n",
    "\n"
   ]
  },
  {
   "cell_type": "code",
   "execution_count": 63,
   "metadata": {},
   "outputs": [
    {
     "data": {
      "text/html": [
       "<style type=\"text/css\">\n",
       "#T_cfd3f_row0_col4, #T_cfd3f_row1_col4, #T_cfd3f_row2_col4 {\n",
       "  color: red;\n",
       "}\n",
       "</style>\n",
       "<table id=\"T_cfd3f\">\n",
       "  <thead>\n",
       "    <tr>\n",
       "      <th class=\"blank level0\" >&nbsp;</th>\n",
       "      <th id=\"T_cfd3f_level0_col0\" class=\"col_heading level0 col0\" >Funkce</th>\n",
       "      <th id=\"T_cfd3f_level0_col1\" class=\"col_heading level0 col1\" >Lichoběžníková metoda</th>\n",
       "      <th id=\"T_cfd3f_level0_col2\" class=\"col_heading level0 col2\" >Newton-Cotesova metoda</th>\n",
       "      <th id=\"T_cfd3f_level0_col3\" class=\"col_heading level0 col3\" >Knihovna NumPy</th>\n",
       "      <th id=\"T_cfd3f_level0_col4\" class=\"col_heading level0 col4\" >Analytické řešení</th>\n",
       "    </tr>\n",
       "  </thead>\n",
       "  <tbody>\n",
       "    <tr>\n",
       "      <th id=\"T_cfd3f_level0_row0\" class=\"row_heading level0 row0\" >0</th>\n",
       "      <td id=\"T_cfd3f_row0_col0\" class=\"data row0 col0\" >Funkce 1 </td>\n",
       "      <td id=\"T_cfd3f_row0_col1\" class=\"data row0 col1\" >46.877150</td>\n",
       "      <td id=\"T_cfd3f_row0_col2\" class=\"data row0 col2\" >46.666750</td>\n",
       "      <td id=\"T_cfd3f_row0_col3\" class=\"data row0 col3\" >46.666750</td>\n",
       "      <td id=\"T_cfd3f_row0_col4\" class=\"data row0 col4\" >46.666667</td>\n",
       "    </tr>\n",
       "    <tr>\n",
       "      <th id=\"T_cfd3f_level0_row1\" class=\"row_heading level0 row1\" >1</th>\n",
       "      <td id=\"T_cfd3f_row1_col0\" class=\"data row1 col0\" >Funkce 2 </td>\n",
       "      <td id=\"T_cfd3f_row1_col1\" class=\"data row1 col1\" >42.146623</td>\n",
       "      <td id=\"T_cfd3f_row1_col2\" class=\"data row1 col2\" >42.077530</td>\n",
       "      <td id=\"T_cfd3f_row1_col3\" class=\"data row1 col3\" >42.077530</td>\n",
       "      <td id=\"T_cfd3f_row1_col4\" class=\"data row1 col4\" >42.077553</td>\n",
       "    </tr>\n",
       "    <tr>\n",
       "      <th id=\"T_cfd3f_level0_row2\" class=\"row_heading level0 row2\" >2</th>\n",
       "      <td id=\"T_cfd3f_row2_col0\" class=\"data row2 col0\" >Funkce 3</td>\n",
       "      <td id=\"T_cfd3f_row2_col1\" class=\"data row2 col1\" >-75.193313</td>\n",
       "      <td id=\"T_cfd3f_row2_col2\" class=\"data row2 col2\" >-75.033648</td>\n",
       "      <td id=\"T_cfd3f_row2_col3\" class=\"data row2 col3\" >-75.033648</td>\n",
       "      <td id=\"T_cfd3f_row2_col4\" class=\"data row2 col4\" >-75.033690</td>\n",
       "    </tr>\n",
       "  </tbody>\n",
       "</table>\n"
      ],
      "text/plain": [
       "<pandas.io.formats.style.Styler at 0x18dfb9fa930>"
      ]
     },
     "execution_count": 63,
     "metadata": {},
     "output_type": "execute_result"
    }
   ],
   "source": [
    "import pandas as pd\n",
    "\n",
    "# Data pro všechny funkce\n",
    "data = {\n",
    "    'Funkce': [\"Funkce 1 \"]  + [\"Funkce 2 \"]  + [\"Funkce 3\"] ,\n",
    "    'Lichoběžníková metoda': [integral_1_1, integral_2_1, integral_3_1] ,\n",
    "    'Newton-Cotesova metoda': [integral_1_2, integral_2_2, integral_3_2] ,\n",
    "    'Knihovna NumPy': [integral_1_3, integral_2_3, integral_3_3] ,\n",
    "    'Analytické řešení': [integral_analyticky_1, integral_analyticky_2, integral_analyticky_3] \n",
    "}\n",
    "\n",
    "# Vytvoření datového rámce\n",
    "df = pd.DataFrame(data)\n",
    "\n",
    "\n",
    "def color_red(sloupec):\n",
    "    color = 'red' if isinstance(sloupec, float) else 'black'  # Změna barvy na červenou jen pro čísla\n",
    "    return f'color: {color}'\n",
    "\n",
    "# Aplikace stylu na sloupec \"Analytické řešení\"\n",
    "df = df.style.map(color_red, subset=['Analytické řešení'])\n",
    "\n",
    "df\n"
   ]
  }
 ],
 "metadata": {
  "kernelspec": {
   "display_name": "Python 3",
   "language": "python",
   "name": "python3"
  },
  "language_info": {
   "codemirror_mode": {
    "name": "ipython",
    "version": 3
   },
   "file_extension": ".py",
   "mimetype": "text/x-python",
   "name": "python",
   "nbconvert_exporter": "python",
   "pygments_lexer": "ipython3",
   "version": "3.12.2"
  }
 },
 "nbformat": 4,
 "nbformat_minor": 2
}
