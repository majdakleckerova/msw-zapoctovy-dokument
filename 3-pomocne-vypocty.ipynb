{
 "cells": [
  {
   "cell_type": "code",
   "execution_count": null,
   "metadata": {},
   "outputs": [],
   "source": [
    "# 3. Úvod do lineární algebry"
   ]
  },
  {
   "cell_type": "code",
   "execution_count": 80,
   "metadata": {},
   "outputs": [
    {
     "name": "stdout",
     "output_type": "stream",
     "text": [
      "Řešení přímou metodou:\n",
      "[2.]\n",
      "[3. 5.]\n",
      "[ 2.  4. -1.]\n",
      "[ 1.  2. -1.  1.]\n",
      "[ 5.83333333 10.66666667 13.5        13.33333333  9.16666667]\n",
      "Správné řešení:\n",
      "[2.]\n",
      "[3. 5.]\n",
      "[ 2.  4. -1.]\n",
      "[ 1.  2. -1.  1.]\n",
      "[ 5.83333333 10.66666667 13.5        13.33333333  9.16666667]\n",
      "Řešení iterační metodou:\n",
      "[2.]\n",
      "[-2.67877152e+301 -5.35754304e+301]\n",
      "[ 2.          3.99999999 -1.        ]\n",
      "[ 1.  2. -1.  1.]\n",
      "[ 5.83333331 10.66666663 13.49999996 13.3333333   9.16666665]\n"
     ]
    }
   ],
   "source": [
    "# Matice 1x1\n",
    "A = np.array([[1]])\n",
    "a = np.array([2])\n",
    "\n",
    "# Matice 2x2\n",
    "B = np.array([[1,1],\n",
    "             [2,-1]])\n",
    "b = np.array([8,1])\n",
    "\n",
    "# Matice 3x3\n",
    "C = np.array([[3,-2,5],\n",
    "              [1,1,2],\n",
    "              [-2,1,-6]])\n",
    "c = np.array([-7,4,6])\n",
    "\n",
    "# Matice 4x4\n",
    "D = np.array([[10, -1, 2, 0],\n",
    "        [-1, 11, -1, 3],\n",
    "        [2, -1, 10, -1],\n",
    "        [0, 3, -1, 8]])\n",
    "d = np.array([6, 25, -11, 15])\n",
    "\n",
    "# Matice 5x5\n",
    "E = np.array([[5,7,9,-28,1],\n",
    "              [-3,0,12,5,0],\n",
    "              [2,7,19,-23,1],\n",
    "              [1,1,1,-1,1],\n",
    "              [0,5,17,-21,3]])\n",
    "e = np.array([-14,25,11,0,11])\n",
    "\n",
    "\n",
    "###############################################################################################################xx\n",
    "\n",
    "import numpy as np\n",
    "def gaussova_eliminacni_metoda(A, b):\n",
    "    pocet_rovnic = len(A)\n",
    "    rozsirena_matice = np.column_stack((A, b)).astype(np.float64)  \n",
    "    for i in range(pocet_rovnic):\n",
    "        if rozsirena_matice[i, i] == 0.0:\n",
    "            print(\"Dělíš nulou!!!\")\n",
    "        for j in range(i + 1, pocet_rovnic):\n",
    "            pomer = rozsirena_matice[j, i] / rozsirena_matice[i, i]\n",
    "            rozsirena_matice[j] -= pomer * rozsirena_matice[i]\n",
    "\n",
    "    x = np.zeros(pocet_rovnic) \n",
    "    for i in range(pocet_rovnic - 1, -1, -1): \n",
    "        x[i] = (rozsirena_matice[i, -1] - np.dot(rozsirena_matice[i, :-1], x)) / rozsirena_matice[i, i] \n",
    "    \n",
    "    return x\n",
    "\n",
    "\n",
    "print(\"Řešení přímou metodou:\")\n",
    "print(gaussova_eliminacni_metoda(A,a))\n",
    "print(gaussova_eliminacni_metoda(B,b))\n",
    "print(gaussova_eliminacni_metoda(C,c))\n",
    "print(gaussova_eliminacni_metoda(D,d))\n",
    "print(gaussova_eliminacni_metoda(E,e))\n",
    "\n",
    "###############################################################################################################\n",
    "print(\"Správné řešení:\")\n",
    "print(np.linalg.solve(A,a))\n",
    "print(np.linalg.solve(B,b))\n",
    "print(np.linalg.solve(C,c))\n",
    "print(np.linalg.solve(D,d))\n",
    "print(np.linalg.solve(E,e))\n",
    "################################################################################################################\n",
    "def gaussova_seidelova_iterace(A, b, tolerance=1e-10, max_iteraci=1000):\n",
    "    x = np.zeros_like(b, np.float_) \n",
    "    for pocet_iteraci in range(1, max_iteraci+1):\n",
    "        x_po_iteraci = np.zeros_like(x, dtype=np.float_)\n",
    "        for i in range(A.shape[0]):\n",
    "            s1 = np.dot(A[i, :i], x_po_iteraci[:i])\n",
    "            s2 = np.dot(A[i, i + 1 :], x[i + 1 :])\n",
    "            x_po_iteraci[i] = (b[i] - s1 - s2) / A[i, i]\n",
    "\n",
    "        if np.allclose(x, x_po_iteraci, rtol=tolerance):\n",
    "            break\n",
    "        x = x_po_iteraci \n",
    "    return x\n",
    "\n",
    "print(\"Řešení iterační metodou:\")\n",
    "print(gaussova_seidelova_iterace(A,a))\n",
    "print(gaussova_seidelova_iterace(B,b))\n",
    "print(gaussova_seidelova_iterace(C,c))\n",
    "print(gaussova_seidelova_iterace(D,d))\n",
    "print(gaussova_seidelova_iterace(E,e))\n"
   ]
  },
  {
   "cell_type": "code",
   "execution_count": 146,
   "metadata": {},
   "outputs": [
    {
     "name": "stdout",
     "output_type": "stream",
     "text": [
      "[[9 4 8]\n",
      " [8 3 4]\n",
      " [1 1 2]]\n",
      "[3 9 5]\n",
      "[-3.4        19.39999997 -5.49999999]\n"
     ]
    }
   ],
   "source": [
    "import numpy as np\n",
    "\n",
    "def generuj_ctvercovoumatici(velikost, min_hodnota=1, max_hodnota=10):\n",
    "    return np.random.randint(min_hodnota, max_hodnota, (velikost, velikost))\n",
    "\n",
    "def generuj_pravoustranu(velikost, min_hodnota=1, max_hodnota=10):\n",
    "    return np.random.randint(min_hodnota, max_hodnota, velikost)\n",
    "\n",
    "\n"
   ]
  },
  {
   "cell_type": "code",
   "execution_count": null,
   "metadata": {},
   "outputs": [],
   "source": [
    "# ZKOUŠKA PŘESNOSTI A KOREKTNOSTI ŘEŠENÍ POUŽITÍM OBOU METOD:"
   ]
  },
  {
   "cell_type": "code",
   "execution_count": 132,
   "metadata": {},
   "outputs": [
    {
     "name": "stdout",
     "output_type": "stream",
     "text": [
      "[2.]\n"
     ]
    }
   ],
   "source": [
    "# Matice 1x1\n",
    "import time\n",
    "import numpy as np\n",
    "A = np.array([[1]])\n",
    "a = np.array([2])\n",
    "\n",
    "start = time.perf_counter()\n",
    "def gaussova_eliminacni_metoda(A, b):\n",
    "    pocet_rovnic = len(A)\n",
    "    rozsirena_matice = np.column_stack((A, b)).astype(np.float64)  \n",
    "    for i in range(pocet_rovnic):\n",
    "        if rozsirena_matice[i, i] == 0.0:\n",
    "            print(\"Dělíš nulou!!!\")\n",
    "        for j in range(i + 1, pocet_rovnic):\n",
    "            pomer = rozsirena_matice[j, i] / rozsirena_matice[i, i]\n",
    "            rozsirena_matice[j] -= pomer * rozsirena_matice[i]\n",
    "\n",
    "    x = np.zeros(pocet_rovnic) \n",
    "    for i in range(pocet_rovnic - 1, -1, -1): \n",
    "        x[i] = (rozsirena_matice[i, -1] - np.dot(rozsirena_matice[i, :-1], x)) / rozsirena_matice[i, i] \n",
    "    \n",
    "    return x\n",
    "\n",
    "a_prima = gaussova_eliminacni_metoda(A,a)\n",
    "end = time.perf_counter()\n",
    "print(a_prima)\n",
    "cas_a_prima = end-start\n",
    "\n",
    "\n",
    "\n",
    "\n"
   ]
  },
  {
   "cell_type": "code",
   "execution_count": 2,
   "metadata": {},
   "outputs": [
    {
     "name": "stdout",
     "output_type": "stream",
     "text": [
      "[3. 5.]\n"
     ]
    }
   ],
   "source": [
    "# Matice 2x2\n",
    "import time\n",
    "import numpy as np\n",
    "B = np.array([[1,1],\n",
    "             [2,-1]])\n",
    "b = np.array([8,1])\n",
    "\n",
    "start = time.perf_counter()\n",
    "def gaussova_eliminacni_metoda(A, b):\n",
    "    pocet_rovnic = len(A)\n",
    "    rozsirena_matice = np.column_stack((A, b)).astype(np.float64)  \n",
    "    for i in range(pocet_rovnic):\n",
    "        if rozsirena_matice[i, i] == 0.0:\n",
    "            print(\"Dělíš nulou!!!\")\n",
    "        for j in range(i + 1, pocet_rovnic):\n",
    "            pomer = rozsirena_matice[j, i] / rozsirena_matice[i, i]\n",
    "            rozsirena_matice[j] -= pomer * rozsirena_matice[i]\n",
    "\n",
    "    x = np.zeros(pocet_rovnic) \n",
    "    for i in range(pocet_rovnic - 1, -1, -1): \n",
    "        x[i] = (rozsirena_matice[i, -1] - np.dot(rozsirena_matice[i, :-1], x)) / rozsirena_matice[i, i] \n",
    "    \n",
    "    return x\n",
    "\n",
    "b_prima = gaussova_eliminacni_metoda(B,b)\n",
    "end = time.perf_counter()\n",
    "print(b_prima)\n",
    "cas_b_prima = end-start"
   ]
  },
  {
   "cell_type": "code",
   "execution_count": 3,
   "metadata": {},
   "outputs": [
    {
     "name": "stdout",
     "output_type": "stream",
     "text": [
      "[ 2.  4. -1.]\n"
     ]
    }
   ],
   "source": [
    "# Matice 3x3\n",
    "import numpy as np\n",
    "import time\n",
    "C = np.array([[3,-2,5],\n",
    "              [1,1,2],\n",
    "              [-2,1,-6]])\n",
    "c = np.array([-7,4,6])\n",
    "\n",
    "start = time.perf_counter()\n",
    "def gaussova_eliminacni_metoda(A, b):\n",
    "    pocet_rovnic = len(A)\n",
    "    rozsirena_matice = np.column_stack((A, b)).astype(np.float64)  \n",
    "    for i in range(pocet_rovnic):\n",
    "        if rozsirena_matice[i, i] == 0.0:\n",
    "            print(\"Dělíš nulou!!!\")\n",
    "        for j in range(i + 1, pocet_rovnic):\n",
    "            pomer = rozsirena_matice[j, i] / rozsirena_matice[i, i]\n",
    "            rozsirena_matice[j] -= pomer * rozsirena_matice[i]\n",
    "\n",
    "    x = np.zeros(pocet_rovnic) \n",
    "    for i in range(pocet_rovnic - 1, -1, -1): \n",
    "        x[i] = (rozsirena_matice[i, -1] - np.dot(rozsirena_matice[i, :-1], x)) / rozsirena_matice[i, i] \n",
    "    \n",
    "    return x\n",
    "\n",
    "c_prima = gaussova_eliminacni_metoda(C,c)\n",
    "end = time.perf_counter()\n",
    "print(c_prima)\n",
    "cas_c_prima = end-start"
   ]
  },
  {
   "cell_type": "code",
   "execution_count": 4,
   "metadata": {},
   "outputs": [
    {
     "name": "stdout",
     "output_type": "stream",
     "text": [
      "[ 1.  2. -1.  1.]\n"
     ]
    }
   ],
   "source": [
    "# Matice 4x4\n",
    "import numpy as np\n",
    "import time\n",
    "D = np.array([[10, -1, 2, 0],\n",
    "        [-1, 11, -1, 3],\n",
    "        [2, -1, 10, -1],\n",
    "        [0, 3, -1, 8]])\n",
    "d = np.array([6, 25, -11, 15])\n",
    "\n",
    "start = time.perf_counter()\n",
    "def gaussova_eliminacni_metoda(A, b):\n",
    "    pocet_rovnic = len(A)\n",
    "    rozsirena_matice = np.column_stack((A, b)).astype(np.float64)  \n",
    "    for i in range(pocet_rovnic):\n",
    "        if rozsirena_matice[i, i] == 0.0:\n",
    "            print(\"Dělíš nulou!!!\")\n",
    "        for j in range(i + 1, pocet_rovnic):\n",
    "            pomer = rozsirena_matice[j, i] / rozsirena_matice[i, i]\n",
    "            rozsirena_matice[j] -= pomer * rozsirena_matice[i]\n",
    "\n",
    "    x = np.zeros(pocet_rovnic) \n",
    "    for i in range(pocet_rovnic - 1, -1, -1): \n",
    "        x[i] = (rozsirena_matice[i, -1] - np.dot(rozsirena_matice[i, :-1], x)) / rozsirena_matice[i, i] \n",
    "    \n",
    "    return x\n",
    "\n",
    "d_prima = gaussova_eliminacni_metoda(D,d)\n",
    "end = time.perf_counter()\n",
    "print(d_prima)\n",
    "cas_d_prima = end-start"
   ]
  },
  {
   "cell_type": "code",
   "execution_count": 5,
   "metadata": {},
   "outputs": [
    {
     "name": "stdout",
     "output_type": "stream",
     "text": [
      "[-6.23287671e+00  7.49315068e+00 -1.77635684e-15  1.26027397e+00\n",
      " -1.33226763e-15]\n"
     ]
    }
   ],
   "source": [
    "# Matice 5x5\n",
    "import numpy as np\n",
    "import time\n",
    "E = np.array([[5,7,9,-28,1],\n",
    "              [-3,0,12,5,0],\n",
    "              [2,7,19,-23,1],\n",
    "              [1,1,1,-1,1],\n",
    "              [0,5,17,-21,3]])\n",
    "e = np.array([-14,25,11,0,11])\n",
    "\n",
    "start = time.perf_counter()\n",
    "def gaussova_eliminacni_metoda(A, b):\n",
    "    pocet_rovnic = len(A)\n",
    "    rozsirena_matice = np.column_stack((A, b)).astype(np.float64)  \n",
    "    for i in range(pocet_rovnic):\n",
    "        if rozsirena_matice[i, i] == 0.0:\n",
    "            print(\"Dělíš nulou!!!\")\n",
    "        for j in range(i + 1, pocet_rovnic):\n",
    "            pomer = rozsirena_matice[j, i] / rozsirena_matice[i, i]\n",
    "            rozsirena_matice[j] -= pomer * rozsirena_matice[i]\n",
    "\n",
    "    x = np.zeros(pocet_rovnic) \n",
    "    for i in range(pocet_rovnic - 1, -1, -1): \n",
    "        x[i] = (rozsirena_matice[i, -1] - np.dot(rozsirena_matice[i, :-1], x)) / rozsirena_matice[i, i] \n",
    "    \n",
    "    return x\n",
    "\n",
    "e_prima = gaussova_eliminacni_metoda(E,e)\n",
    "end = time.perf_counter()\n",
    "print(e_prima)\n",
    "cas_e_prima = end-start"
   ]
  },
  {
   "cell_type": "code",
   "execution_count": 115,
   "metadata": {},
   "outputs": [
    {
     "name": "stdout",
     "output_type": "stream",
     "text": [
      "[2.]\n"
     ]
    }
   ],
   "source": [
    "# Matice 1x1 \n",
    "import time\n",
    "import numpy as np\n",
    "A = np.array([[1]])\n",
    "a = np.array([2])\n",
    "\n",
    "start = time.perf_counter()\n",
    "def gaussova_seidelova_iterace(A, b, tolerance=1e-10, max_iteraci=1000):\n",
    "    x = np.zeros_like(b, np.float_) \n",
    "    for pocet_iteraci in range(1, max_iteraci+1):\n",
    "        x_po_iteraci = np.zeros_like(x, dtype=np.float_)\n",
    "        for i in range(A.shape[0]):\n",
    "            s1 = np.dot(A[i, :i], x_po_iteraci[:i])\n",
    "            s2 = np.dot(A[i, i + 1 :], x[i + 1 :])\n",
    "            x_po_iteraci[i] = (b[i] - s1 - s2) / A[i, i]\n",
    "\n",
    "        if np.allclose(x, x_po_iteraci, rtol=tolerance):\n",
    "            break\n",
    "        x = x_po_iteraci \n",
    "    return x\n",
    "\n",
    "a_iteracni = gaussova_seidelova_iterace(A,a)\n",
    "end = time.perf_counter()\n",
    "print(a_iteracni)\n",
    "cas_a_iteracni = end-start\n",
    "\n",
    "\n"
   ]
  },
  {
   "cell_type": "code",
   "execution_count": 6,
   "metadata": {},
   "outputs": [
    {
     "name": "stdout",
     "output_type": "stream",
     "text": [
      "[2.67877152e+301 5.35754304e+301]\n"
     ]
    }
   ],
   "source": [
    "# Matice 2x2\n",
    "import time\n",
    "import numpy as np\n",
    "B = np.array([[1,1],\n",
    "             [2,-1]])\n",
    "b = np.array([8,1])\n",
    "\n",
    "start = time.perf_counter()\n",
    "def gaussova_seidelova_iterace(A, b, tolerance=1e-10, max_iteraci=1000):\n",
    "    x = np.zeros_like(b, np.float_) \n",
    "    for pocet_iteraci in range(1, max_iteraci+1):\n",
    "        x_po_iteraci = np.zeros_like(x, dtype=np.float_)\n",
    "        for i in range(A.shape[0]):\n",
    "            s1 = np.dot(A[i, :i], x_po_iteraci[:i])\n",
    "            s2 = np.dot(A[i, i + 1 :], x[i + 1 :])\n",
    "            x_po_iteraci[i] = (b[i] - s1 - s2) / A[i, i]\n",
    "\n",
    "        if np.allclose(x, x_po_iteraci, rtol=tolerance):\n",
    "            break\n",
    "        x = x_po_iteraci \n",
    "    return x\n",
    "\n",
    "b_iteracni = gaussova_seidelova_iterace(B,b)\n",
    "end = time.perf_counter()\n",
    "print(-1 * b_iteracni)\n",
    "cas_b_iteracni = end-start\n"
   ]
  },
  {
   "cell_type": "code",
   "execution_count": 8,
   "metadata": {},
   "outputs": [
    {
     "name": "stdout",
     "output_type": "stream",
     "text": [
      "[ 2.          3.99999999 -1.        ]\n"
     ]
    }
   ],
   "source": [
    "# Matice 3x3\n",
    "import time\n",
    "import numpy as np\n",
    "C = np.array([[3,-2,5],\n",
    "              [1,1,2],\n",
    "              [-2,1,-6]])\n",
    "c = np.array([-7,4,6])\n",
    "start = time.perf_counter()\n",
    "def gaussova_seidelova_iterace(A, b, tolerance=1e-10, max_iteraci=1000):\n",
    "    x = np.zeros_like(b, np.float_) \n",
    "    for pocet_iteraci in range(1, max_iteraci+1):\n",
    "        x_po_iteraci = np.zeros_like(x, dtype=np.float_)\n",
    "        for i in range(A.shape[0]):\n",
    "            s1 = np.dot(A[i, :i], x_po_iteraci[:i])\n",
    "            s2 = np.dot(A[i, i + 1 :], x[i + 1 :])\n",
    "            x_po_iteraci[i] = (b[i] - s1 - s2) / A[i, i]\n",
    "\n",
    "        if np.allclose(x, x_po_iteraci, rtol=tolerance):\n",
    "            break\n",
    "        x = x_po_iteraci \n",
    "    return x\n",
    "\n",
    "c_iteracni = gaussova_seidelova_iterace(C,c)\n",
    "end = time.perf_counter()\n",
    "print(c_iteracni)\n",
    "cas_c_iteracni = end-start"
   ]
  },
  {
   "cell_type": "code",
   "execution_count": 9,
   "metadata": {},
   "outputs": [
    {
     "name": "stdout",
     "output_type": "stream",
     "text": [
      "[ 1.  2. -1.  1.]\n"
     ]
    }
   ],
   "source": [
    "# Matice 4x4\n",
    "import time\n",
    "import numpy as np\n",
    "D = np.array([[10, -1, 2, 0],\n",
    "        [-1, 11, -1, 3],\n",
    "        [2, -1, 10, -1],\n",
    "        [0, 3, -1, 8]])\n",
    "d = np.array([6, 25, -11, 15])\n",
    "start = time.perf_counter()\n",
    "def gaussova_seidelova_iterace(A, b, tolerance=1e-10, max_iteraci=1000):\n",
    "    x = np.zeros_like(b, np.float_) \n",
    "    for pocet_iteraci in range(1, max_iteraci+1):\n",
    "        x_po_iteraci = np.zeros_like(x, dtype=np.float_)\n",
    "        for i in range(A.shape[0]):\n",
    "            s1 = np.dot(A[i, :i], x_po_iteraci[:i])\n",
    "            s2 = np.dot(A[i, i + 1 :], x[i + 1 :])\n",
    "            x_po_iteraci[i] = (b[i] - s1 - s2) / A[i, i]\n",
    "\n",
    "        if np.allclose(x, x_po_iteraci, rtol=tolerance):\n",
    "            break\n",
    "        x = x_po_iteraci \n",
    "    return x\n",
    "\n",
    "d_iteracni = gaussova_seidelova_iterace(D,d)\n",
    "end = time.perf_counter()\n",
    "print(d_iteracni)\n",
    "cas_d_iteracni = end-start"
   ]
  }
 ],
 "metadata": {
  "kernelspec": {
   "display_name": "Python 3",
   "language": "python",
   "name": "python3"
  },
  "language_info": {
   "codemirror_mode": {
    "name": "ipython",
    "version": 3
   },
   "file_extension": ".py",
   "mimetype": "text/x-python",
   "name": "python",
   "nbconvert_exporter": "python",
   "pygments_lexer": "ipython3",
   "version": "3.12.2"
  }
 },
 "nbformat": 4,
 "nbformat_minor": 2
}
