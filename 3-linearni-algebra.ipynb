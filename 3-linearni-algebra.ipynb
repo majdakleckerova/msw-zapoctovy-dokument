{
 "cells": [
  {
   "cell_type": "code",
   "execution_count": null,
   "metadata": {},
   "outputs": [],
   "source": [
    "# 3. Úvod do lineární algebry"
   ]
  },
  {
   "cell_type": "code",
   "execution_count": 2,
   "metadata": {},
   "outputs": [
    {
     "name": "stdout",
     "output_type": "stream",
     "text": [
      "Původní rozšířená matice:\n",
      "[[  2.   1.  -1.   8.]\n",
      " [ -3.  -1.   2. -11.]\n",
      " [ -2.   1.   2.  -3.]]\n",
      "\n",
      "Rozšířená matice v horním trojúhelníkovém tvaru:\n",
      "[[ 2.   1.  -1.   8. ]\n",
      " [ 0.   0.5  0.5  1. ]\n",
      " [ 0.   0.  -1.   1. ]]\n",
      "\n",
      "Řešení soustavy lineárních rovnic:\n",
      "[ 2.  3. -1.]\n",
      "\n",
      "Ověření pomocí numpy.linalg.solve:\n",
      "[ 2.  3. -1.]\n"
     ]
    }
   ],
   "source": [
    "# Gaussova eliminační metoda\n",
    "\n",
    "import numpy as np\n",
    "\n",
    "def gaussova_eliminacni_metoda(A, b): # A = matice koeficientů neznámých, b = vektor výsledků jednotlivých rovnic soustavy\n",
    "    # Získání počtu koeficientů (počet rovnic)\n",
    "    pocet_rovnic = len(A)\n",
    "    \n",
    "    # Vytvoření rozšířené matice spojením matice A s vektorem b\n",
    "    rozsirena_matice = np.column_stack((A, b)).astype(np.float64)   # přetypování na desetinné číslo\n",
    "    print(\"Původní rozšířená matice:\")\n",
    "    display(rozsirena_matice)\n",
    "\n",
    "    # Přímá eliminace\n",
    "    for i in range(pocet_rovnic):\n",
    "        # Eliminace prvků pod vedoucím prvkem \n",
    "        if rozsirena_matice[i, i] == 0.0:\n",
    "            print(\"Dělíš nulou!!!\")\n",
    "        for j in range(i + 1, pocet_rovnic):\n",
    "            pomer = rozsirena_matice[j, i] / rozsirena_matice[i, i]\n",
    "            rozsirena_matice[j] -= pomer * rozsirena_matice[i]\n",
    "\n",
    "    print(\"\\nRozšířená matice v horním trojúhelníkovém tvaru:\")\n",
    "    print(rozsirena_matice)\n",
    "\n",
    "    # Zpětná substituce\n",
    "    x = np.zeros(pocet_rovnic)  # vytvoření pole x, naplněného nulovými hodnotami, za které se pak dosadí daná řešení\n",
    "    for i in range(pocet_rovnic - 1, -1, -1): # procházení matice v horním trojúhelníkovém tvaru od posledního řádku k prvnímu\n",
    "        x[i] = (rozsirena_matice[i, -1] - np.dot(rozsirena_matice[i, :-1], x)) / rozsirena_matice[i, i]  # zjištění daného řešení\n",
    "    \n",
    "    return x\n",
    "\n",
    "A = np.array([[2, 1, -1],\n",
    "              [-3, -1, 2],\n",
    "              [-2, 1, 2]])\n",
    "b = np.array([8, -11, -3])\n",
    "\n",
    "reseni = gaussova_eliminacni_metoda(A, b)\n",
    "print(\"\\nŘešení soustavy lineárních rovnic:\")\n",
    "print(reseni)\n",
    "print(\"\\nOvěření pomocí numpy.linalg.solve:\")\n",
    "print(np.linalg.solve(A, b))\n"
   ]
  },
  {
   "cell_type": "code",
   "execution_count": 14,
   "metadata": {},
   "outputs": [
    {
     "name": "stdout",
     "output_type": "stream",
     "text": [
      "\n",
      "Řešení soustavy lineárních rovnic:\n",
      "[ 1.00000000e+00 -1.00000000e+00 -6.57909941e-17  3.00000000e+00]\n",
      "\n",
      "Ověření pomocí numpy.linalg.solve:\n",
      "[ 1. -1.  0.  3.]\n"
     ]
    }
   ],
   "source": [
    "\n",
    "import numpy as np\n",
    "def gaussova_eliminacni_metoda(A, b):\n",
    "    pocet_rovnic = len(A)\n",
    "    rozsirena_matice = np.column_stack((A, b)).astype(np.float64)  \n",
    "    for i in range(pocet_rovnic):\n",
    "        if rozsirena_matice[i, i] == 0.0:\n",
    "            print(\"Dělíš nulou!!!\")\n",
    "        for j in range(i + 1, pocet_rovnic):\n",
    "            pomer = rozsirena_matice[j, i] / rozsirena_matice[i, i]\n",
    "            rozsirena_matice[j] -= pomer * rozsirena_matice[i]\n",
    "\n",
    "    x = np.zeros(pocet_rovnic) \n",
    "    for i in range(pocet_rovnic - 1, -1, -1): \n",
    "        x[i] = (rozsirena_matice[i, -1] - np.dot(rozsirena_matice[i, :-1], x)) / rozsirena_matice[i, i] \n",
    "    \n",
    "    return x\n",
    "D = np.array([[2,2,-3,1],\n",
    "              [1,2,4,2],\n",
    "              [-1,1,-1,1],\n",
    "              [1,-1,2,-2]])\n",
    "d = np.array([3,5,1,-4])\n",
    "\n",
    "reseni = gaussova_eliminacni_metoda(D,d)\n",
    "print(\"\\nŘešení soustavy lineárních rovnic:\")\n",
    "print(reseni)\n",
    "print(\"\\nOvěření pomocí numpy.linalg.solve:\")\n",
    "print(np.linalg.solve(D,d))\n"
   ]
  },
  {
   "cell_type": "code",
   "execution_count": 15,
   "metadata": {},
   "outputs": [
    {
     "ename": "ValueError",
     "evalue": "matmul: Input operand 1 has a mismatch in its core dimension 0, with gufunc signature (n?,k),(k,m?)->(n?,m?) (size 1 is different from 4)",
     "output_type": "error",
     "traceback": [
      "\u001b[1;31m---------------------------------------------------------------------------\u001b[0m",
      "\u001b[1;31mValueError\u001b[0m                                Traceback (most recent call last)",
      "Cell \u001b[1;32mIn[15], line 17\u001b[0m\n\u001b[0;32m     11\u001b[0m D \u001b[38;5;241m=\u001b[39m np\u001b[38;5;241m.\u001b[39marray([[\u001b[38;5;241m2\u001b[39m,\u001b[38;5;241m2\u001b[39m,\u001b[38;5;241m-\u001b[39m\u001b[38;5;241m3\u001b[39m,\u001b[38;5;241m1\u001b[39m],\n\u001b[0;32m     12\u001b[0m               [\u001b[38;5;241m1\u001b[39m,\u001b[38;5;241m2\u001b[39m,\u001b[38;5;241m4\u001b[39m,\u001b[38;5;241m2\u001b[39m],\n\u001b[0;32m     13\u001b[0m               [\u001b[38;5;241m-\u001b[39m\u001b[38;5;241m1\u001b[39m,\u001b[38;5;241m1\u001b[39m,\u001b[38;5;241m-\u001b[39m\u001b[38;5;241m1\u001b[39m,\u001b[38;5;241m1\u001b[39m],\n\u001b[0;32m     14\u001b[0m               [\u001b[38;5;241m1\u001b[39m,\u001b[38;5;241m-\u001b[39m\u001b[38;5;241m1\u001b[39m,\u001b[38;5;241m2\u001b[39m,\u001b[38;5;241m-\u001b[39m\u001b[38;5;241m2\u001b[39m]])\n\u001b[0;32m     15\u001b[0m d \u001b[38;5;241m=\u001b[39m np\u001b[38;5;241m.\u001b[39marray([\u001b[38;5;241m3\u001b[39m,\u001b[38;5;241m5\u001b[39m,\u001b[38;5;241m1\u001b[39m,\u001b[38;5;241m-\u001b[39m\u001b[38;5;241m4\u001b[39m])\n\u001b[1;32m---> 17\u001b[0m x \u001b[38;5;241m=\u001b[39m \u001b[43mjacobiho_iteracni_metoda\u001b[49m\u001b[43m(\u001b[49m\u001b[43mD\u001b[49m\u001b[43m,\u001b[49m\u001b[43md\u001b[49m\u001b[43m,\u001b[49m\u001b[43m \u001b[49m\u001b[38;5;241;43m20\u001b[39;49m\u001b[43m)\u001b[49m\n\u001b[0;32m     18\u001b[0m \u001b[38;5;28mprint\u001b[39m(\u001b[38;5;124m\"\u001b[39m\u001b[38;5;124mreseni: \u001b[39m\u001b[38;5;124m\"\u001b[39m, x)\n",
      "Cell \u001b[1;32mIn[15], line 7\u001b[0m, in \u001b[0;36mjacobiho_iteracni_metoda\u001b[1;34m(A, b, pocet_iteraci, pocatek)\u001b[0m\n\u001b[0;32m      5\u001b[0m U \u001b[38;5;241m=\u001b[39m np\u001b[38;5;241m.\u001b[39mtriu(A, k \u001b[38;5;241m=\u001b[39m \u001b[38;5;241m1\u001b[39m) \u001b[38;5;66;03m# prvky nad diagonálou\u001b[39;00m\n\u001b[0;32m      6\u001b[0m \u001b[38;5;28;01mfor\u001b[39;00m i \u001b[38;5;129;01min\u001b[39;00m \u001b[38;5;28mrange\u001b[39m(pocet_iteraci):\n\u001b[1;32m----> 7\u001b[0m     x \u001b[38;5;241m=\u001b[39m (b \u001b[38;5;241m-\u001b[39m \u001b[43mnp\u001b[49m\u001b[38;5;241;43m.\u001b[39;49m\u001b[43mmatmul\u001b[49m\u001b[43m(\u001b[49m\u001b[43mL\u001b[49m\u001b[43m,\u001b[49m\u001b[43m \u001b[49m\u001b[43mx\u001b[49m\u001b[43m)\u001b[49m \u001b[38;5;241m-\u001b[39m np\u001b[38;5;241m.\u001b[39mmatmul(U, x)) \u001b[38;5;241m/\u001b[39m D\n\u001b[0;32m      8\u001b[0m     \u001b[38;5;28mprint\u001b[39m(\u001b[38;5;124m\"\u001b[39m\u001b[38;5;124miterace:\u001b[39m\u001b[38;5;124m\"\u001b[39m,i, \u001b[38;5;124m\"\u001b[39m\u001b[38;5;124mx=\u001b[39m\u001b[38;5;124m\"\u001b[39m,x)\n\u001b[0;32m      9\u001b[0m \u001b[38;5;28;01mreturn\u001b[39;00m x\n",
      "\u001b[1;31mValueError\u001b[0m: matmul: Input operand 1 has a mismatch in its core dimension 0, with gufunc signature (n?,k),(k,m?)->(n?,m?) (size 1 is different from 4)"
     ]
    }
   ],
   "source": [
    "\n",
    "def jacobiho_iteracni_metoda(A, b, pocet_iteraci, pocatek=np.ones(len(A))): # A = matice koeficientů SLR, b = vektor pravých stran SLR, pocatek = vektor plný jedniček\n",
    "    x = pocatek\n",
    "    D = np.diag(A)  # prvky z diagonály\n",
    "    L = np.tril(A, k = -1)  # prvky pod diagonálou\n",
    "    U = np.triu(A, k = 1) # prvky nad diagonálou\n",
    "    for i in range(pocet_iteraci):\n",
    "        x = (b - np.matmul(L, x) - np.matmul(U, x)) / D\n",
    "        print(\"iterace:\",i, \"x=\",x)\n",
    "    return x\n",
    "\n",
    "D = np.array([[2,2,-3,1],\n",
    "              [1,2,4,2],\n",
    "              [-1,1,-1,1],\n",
    "              [1,-1,2,-2]])\n",
    "d = np.array([3,5,1,-4])\n",
    "\n",
    "x = jacobiho_iteracni_metoda(D,d, 20)\n",
    "print(\"reseni: \", x)"
   ]
  },
  {
   "cell_type": "code",
   "execution_count": null,
   "metadata": {},
   "outputs": [],
   "source": [
    "A = np.array([[1]])\n",
    "a = np.array([2])\n",
    "\n",
    "B = np.array([[1,1],\n",
    "             [2,-1]])\n",
    "b = np.array([8,1])\n",
    "\n",
    "C = np.array([[3,-2,5],\n",
    "              [1,1,2],\n",
    "              [-2,1,-6]])\n",
    "c = np.array([-7,4,6])\n",
    "\n",
    "D = np.array([[2,2,-3,1],\n",
    "              [1,2,4,2],\n",
    "              [-1,1,-1,1],\n",
    "              [1,-1,2,-2]])\n",
    "d = np.array([3,5,1,-4])\n",
    "\n",
    "\n",
    "\n",
    "\n",
    "\n",
    "###############################################################################################################xx\n",
    "\n",
    "import numpy as np\n",
    "def gaussova_eliminacni_metoda(A, b):\n",
    "    pocet_rovnic = len(A)\n",
    "    rozsirena_matice = np.column_stack((A, b)).astype(np.float64)  \n",
    "    for i in range(pocet_rovnic):\n",
    "        if rozsirena_matice[i, i] == 0.0:\n",
    "            print(\"Dělíš nulou!!!\")\n",
    "        for j in range(i + 1, pocet_rovnic):\n",
    "            pomer = rozsirena_matice[j, i] / rozsirena_matice[i, i]\n",
    "            rozsirena_matice[j] -= pomer * rozsirena_matice[i]\n",
    "\n",
    "    x = np.zeros(pocet_rovnic) \n",
    "    for i in range(pocet_rovnic - 1, -1, -1): \n",
    "        x[i] = (rozsirena_matice[i, -1] - np.dot(rozsirena_matice[i, :-1], x)) / rozsirena_matice[i, i] \n",
    "    \n",
    "    return x\n",
    "\n",
    "###############################################################################################################\n",
    "A = np.array([[2, 1, -1],\n",
    "              [-3, -1, 2],\n",
    "              [-2, 1, 2]])\n",
    "b = np.array([8, -11, -3])\n",
    "\n",
    "reseni = gaussova_eliminacni_metoda(A, b)\n",
    "print(\"\\nŘešení soustavy lineárních rovnic:\")\n",
    "print(reseni)\n",
    "print(\"\\nOvěření pomocí numpy.linalg.solve:\")\n",
    "print(np.linalg.solve(A, b))\n",
    "\n",
    "\n",
    "def jacobiho_iteracni_metoda(A, b, pocet_iteraci, pocatek=np.ones(len(A))): # A = matice koeficientů SLR, b = vektor pravých stran SLR, pocatek = vektor plný jedniček\n",
    "    x = pocatek\n",
    "    D = np.diag(A)  # prvky z diagonály\n",
    "    L = np.tril(A, k = -1)  # prvky pod diagonálou\n",
    "    U = np.triu(A, k = 1) # prvky nad diagonálou\n",
    "    for i in range(pocet_iteraci):\n",
    "        x = (b - np.matmul(L, x) - np.matmul(U, x)) / D\n",
    "        print(\"iterace:\",i, \"x=\",x)\n",
    "    return x\n",
    "\n",
    "A = np.array([\n",
    "    [2, 1], \n",
    "    [5, 7]\n",
    "])\n",
    "b = np.array([11, 13])\n",
    "\n",
    "x = jacobiho_iteracni_metoda(A, b, 20)\n",
    "print(\"reseni: \", x)\n",
    "\n"
   ]
  },
  {
   "cell_type": "code",
   "execution_count": 27,
   "metadata": {},
   "outputs": [
    {
     "name": "stdout",
     "output_type": "stream",
     "text": [
      "Výsledek Gauss-Seidelovy metody: [-2507855.97142656 30678408.51812739 28170556.54670083 11577426.30192386]\n"
     ]
    }
   ],
   "source": [
    "import numpy as np\n",
    "\n",
    "def gauss_seidel(A, b, n_iteraci, x0=np.zeros(4)):\n",
    "    x = x0.copy()\n",
    "    L_star = np.tril(A)               # D + L\n",
    "    U = np.triu(A, k=1)               # Horní trojúhelníková matice\n",
    "    T = -np.linalg.inv(L_star).dot(U)   # T = -inv(L*).U\n",
    "    C = np.linalg.inv(L_star).dot(b)   # C = inv(L*).b\n",
    "    for i in range(n_iteraci):\n",
    "        x = T.dot(x) + C                  # x = Tx + C\n",
    "    return x\n",
    "\n",
    "D = np.array([[2, 2, -3, 1],\n",
    "              [1, 2, 4, 2],\n",
    "              [-1, 1, -1, 1],\n",
    "              [1, -1, 2, -2]])\n",
    "d = np.array([3, 5, 1, -4])\n",
    "\n",
    "x = gauss_seidel(D, d, 20)\n",
    "print(\"Výsledek Gauss-Seidelovy metody:\", x)\n"
   ]
  },
  {
   "cell_type": "code",
   "execution_count": 43,
   "metadata": {},
   "outputs": [
    {
     "name": "stdout",
     "output_type": "stream",
     "text": [
      "[-2.89507139e+35  3.54152000e+36  3.25201287e+36  1.33649929e+36]\n"
     ]
    }
   ],
   "source": [
    "def gauss_seidel(A, b, tolerance=1e-10, max_iterations=10000):\n",
    "    \n",
    "    x = np.zeros_like(b, dtype=np.double)\n",
    "    \n",
    "    #Iterate\n",
    "    for k in range(max_iterations):\n",
    "        \n",
    "        x_old  = x.copy()\n",
    "        \n",
    "        #Loop over rows\n",
    "        for i in range(A.shape[0]):\n",
    "            x[i] = (b[i] - np.dot(A[i,:i], x[:i]) - np.dot(A[i,(i+1):], x_old[(i+1):])) / A[i ,i]\n",
    "            \n",
    "        #Stop condition \n",
    "        if np.linalg.norm(x - x_old, ord=np.inf) / np.linalg.norm(x, ord=np.inf) < tolerance:\n",
    "            break\n",
    "            \n",
    "    return x\n",
    "\n",
    "D = np.array([[2, 2, -3, 1],\n",
    "              [1, 2, 4, 2],\n",
    "              [-1, 1, -1, 1],\n",
    "              [1, -1, 2, -2]])\n",
    "d = np.array([3, 5, 1, -4])\n",
    "print(gauss_seidel(D,d,0.1,100))\n"
   ]
  }
 ],
 "metadata": {
  "kernelspec": {
   "display_name": "Python 3",
   "language": "python",
   "name": "python3"
  },
  "language_info": {
   "codemirror_mode": {
    "name": "ipython",
    "version": 3
   },
   "file_extension": ".py",
   "mimetype": "text/x-python",
   "name": "python",
   "nbconvert_exporter": "python",
   "pygments_lexer": "ipython3",
   "version": "3.12.2"
  }
 },
 "nbformat": 4,
 "nbformat_minor": 2
}
