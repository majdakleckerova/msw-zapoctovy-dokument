{
 "cells": [
  {
   "cell_type": "code",
   "execution_count": null,
   "metadata": {},
   "outputs": [],
   "source": [
    "# 3. Úvod do lineární algebry"
   ]
  },
  {
   "cell_type": "code",
   "execution_count": 36,
   "metadata": {},
   "outputs": [
    {
     "data": {
      "text/plain": [
       "array([[  2.,   1.,  -1.,   8.],\n",
       "       [ -3.,  -1.,   2., -11.],\n",
       "       [ -2.,   1.,   2.,  -3.]])"
      ]
     },
     "metadata": {},
     "output_type": "display_data"
    },
    {
     "name": "stdout",
     "output_type": "stream",
     "text": [
      "\n",
      "Řešení soustavy lineárních rovnic:\n",
      "[ 2.  3. -1.]\n",
      "\n",
      "Ověření pomocí numpy.linalg.solve:\n",
      "[ 2.  3. -1.]\n"
     ]
    }
   ],
   "source": [
    "# Gaussova eliminační metoda\n",
    "\n",
    "import numpy as np\n",
    "\n",
    "def gaussova_eliminacni_metoda(A, b): # A = matice koeficientů neznámých, b = vektor výsledků jednotlivých rovnic soustavy\n",
    "    # Získání počtu koeficientů (počet rovnic)\n",
    "    pocet_rovnic = len(A)\n",
    "    \n",
    "    # Vytvoření rozšířené matice spojením matice A s vektorem b\n",
    "    rozsirena_matice = np.column_stack((A, b)).astype(np.float64)   # přetypování na desetinné číslo\n",
    "    display(rozsirena_matice)\n",
    "\n",
    "    # Přímá eliminace\n",
    "    for i in range(pocet_rovnic):\n",
    "        # Eliminace prvků pod vedoucím prvkem \n",
    "        if rozsirena_matice[i, i] == 0.0:\n",
    "            print(\"Dělíš nulou!!!\")\n",
    "        for j in range(i + 1, pocet_rovnic):\n",
    "            pomer = rozsirena_matice[j, i] / rozsirena_matice[i, i]\n",
    "            rozsirena_matice[j] -= pomer * rozsirena_matice[i]\n",
    "\n",
    "\n",
    "    # Zpětná substituce\n",
    "    x = np.zeros(pocet_rovnic)  # vytvoření pole x, naplněného nulovými hodnotami, za které se pak dosadí daná řešení\n",
    "    for i in range(pocet_rovnic - 1, -1, -1): # procházení matice v horním trojúhelníkovém tvaru od posledního řádku k prvnímu\n",
    "        x[i] = (rozsirena_matice[i, -1] - np.dot(rozsirena_matice[i, :-1], x)) / rozsirena_matice[i, i]  # zjištění daného řešení\n",
    "    \n",
    "    return x\n",
    "\n",
    "A = np.array([[2, 1, -1],\n",
    "              [-3, -1, 2],\n",
    "              [-2, 1, 2]])\n",
    "b = np.array([8, -11, -3])\n",
    "\n",
    "reseni = gaussova_eliminacni_metoda(A, b)\n",
    "print(\"\\nŘešení soustavy lineárních rovnic:\")\n",
    "print(reseni)\n",
    "print(\"\\nOvěření pomocí numpy.linalg.solve:\")\n",
    "print(np.linalg.solve(A, b))\n"
   ]
  },
  {
   "cell_type": "code",
   "execution_count": 34,
   "metadata": {},
   "outputs": [
    {
     "name": "stdout",
     "output_type": "stream",
     "text": [
      "Výsledek soustavy lineárních rovnic:\n",
      "[ 2.          3.99999999 -1.        ]\n"
     ]
    }
   ],
   "source": [
    "import numpy as np\n",
    "\n",
    "def gaussova_seidelova_iterace(A, b, tolerance=1e-10, max_iteraci=1000):\n",
    "    x = np.zeros_like(b, np.float_)  # vytvoření vektoru řešení \n",
    "    for pocet_iteraci in range(1, max_iteraci+1):\n",
    "\n",
    "        x_po_iteraci = np.zeros_like(x, dtype=np.float_)\n",
    "        for i in range(A.shape[0]):\n",
    "            s1 = np.dot(A[i, :i], x_po_iteraci[:i])\n",
    "            s2 = np.dot(A[i, i + 1 :], x[i + 1 :])\n",
    "            x_po_iteraci[i] = (b[i] - s1 - s2) / A[i, i]\n",
    "\n",
    "        # break pokud je rozdíl mezi řešeními menší než tolerance (výchozí =1e-10)\n",
    "        if np.allclose(x, x_po_iteraci, rtol=tolerance):\n",
    "            break\n",
    "        x = x_po_iteraci # přiřazení hodnoty x\n",
    "    return x\n",
    "\n",
    "C = np.array([[3,-2,5],\n",
    "              [1,1,2],\n",
    "              [-2,1,-6]])\n",
    "c = np.array([-7,4,6])\n",
    "\n",
    "reseni = gaussova_seidelova_iterace(C,c)\n",
    "print(\"Výsledek soustavy lineárních rovnic:\")\n",
    "print(reseni)\n"
   ]
  },
  {
   "cell_type": "code",
   "execution_count": 80,
   "metadata": {},
   "outputs": [
    {
     "name": "stdout",
     "output_type": "stream",
     "text": [
      "Řešení přímou metodou:\n",
      "[2.]\n",
      "[3. 5.]\n",
      "[ 2.  4. -1.]\n",
      "[ 1.  2. -1.  1.]\n",
      "[ 5.83333333 10.66666667 13.5        13.33333333  9.16666667]\n",
      "Správné řešení:\n",
      "[2.]\n",
      "[3. 5.]\n",
      "[ 2.  4. -1.]\n",
      "[ 1.  2. -1.  1.]\n",
      "[ 5.83333333 10.66666667 13.5        13.33333333  9.16666667]\n",
      "Řešení iterační metodou:\n",
      "[2.]\n",
      "[-2.67877152e+301 -5.35754304e+301]\n",
      "[ 2.          3.99999999 -1.        ]\n",
      "[ 1.  2. -1.  1.]\n",
      "[ 5.83333331 10.66666663 13.49999996 13.3333333   9.16666665]\n"
     ]
    }
   ],
   "source": [
    "# Matice 1x1\n",
    "A = np.array([[1]])\n",
    "a = np.array([2])\n",
    "\n",
    "# Matice 2x2\n",
    "B = np.array([[1,1],\n",
    "             [2,-1]])\n",
    "b = np.array([8,1])\n",
    "\n",
    "# Matice 3x3\n",
    "C = np.array([[3,-2,5],\n",
    "              [1,1,2],\n",
    "              [-2,1,-6]])\n",
    "c = np.array([-7,4,6])\n",
    "\n",
    "# Matice 4x4\n",
    "D = np.array([[10, -1, 2, 0],\n",
    "        [-1, 11, -1, 3],\n",
    "        [2, -1, 10, -1],\n",
    "        [0, 3, -1, 8]])\n",
    "d = np.array([6, 25, -11, 15])\n",
    "\n",
    "# Matice 5x5\n",
    "E = np.array([[5,7,9,-28,1],\n",
    "              [-3,0,12,5,0],\n",
    "              [2,7,19,-23,1],\n",
    "              [1,1,1,-1,1],\n",
    "              [0,5,17,-21,3]])\n",
    "e = np.array([-14,25,11,0,11])\n",
    "\n",
    "\n",
    "###############################################################################################################xx\n",
    "\n",
    "import numpy as np\n",
    "def gaussova_eliminacni_metoda(A, b):\n",
    "    pocet_rovnic = len(A)\n",
    "    rozsirena_matice = np.column_stack((A, b)).astype(np.float64)  \n",
    "    for i in range(pocet_rovnic):\n",
    "        if rozsirena_matice[i, i] == 0.0:\n",
    "            print(\"Dělíš nulou!!!\")\n",
    "        for j in range(i + 1, pocet_rovnic):\n",
    "            pomer = rozsirena_matice[j, i] / rozsirena_matice[i, i]\n",
    "            rozsirena_matice[j] -= pomer * rozsirena_matice[i]\n",
    "\n",
    "    x = np.zeros(pocet_rovnic) \n",
    "    for i in range(pocet_rovnic - 1, -1, -1): \n",
    "        x[i] = (rozsirena_matice[i, -1] - np.dot(rozsirena_matice[i, :-1], x)) / rozsirena_matice[i, i] \n",
    "    \n",
    "    return x\n",
    "\n",
    "E = np.array([[2, -1, 0, 0, 0],\n",
    "              [-1, 2, -1, 0, 0],\n",
    "              [0, -1, 2, -1, 0],\n",
    "              [0, 0, -1, 2, -1],\n",
    "              [0, 0, 0, -1, 2]])\n",
    "e = np.array([1, 2, 3, 4, 5])\n",
    "\n",
    "print(\"Řešení přímou metodou:\")\n",
    "print(gaussova_eliminacni_metoda(A,a))\n",
    "print(gaussova_eliminacni_metoda(B,b))\n",
    "print(gaussova_eliminacni_metoda(C,c))\n",
    "print(gaussova_eliminacni_metoda(D,d))\n",
    "print(gaussova_eliminacni_metoda(E,e))\n",
    "\n",
    "###############################################################################################################\n",
    "print(\"Správné řešení:\")\n",
    "print(np.linalg.solve(A,a))\n",
    "print(np.linalg.solve(B,b))\n",
    "print(np.linalg.solve(C,c))\n",
    "print(np.linalg.solve(D,d))\n",
    "print(np.linalg.solve(E,e))\n",
    "################################################################################################################\n",
    "def gaussova_seidelova_iterace(A, b, tolerance=1e-10, max_iteraci=1000):\n",
    "    x = np.zeros_like(b, np.float_) \n",
    "    for pocet_iteraci in range(1, max_iteraci+1):\n",
    "        x_po_iteraci = np.zeros_like(x, dtype=np.float_)\n",
    "        for i in range(A.shape[0]):\n",
    "            s1 = np.dot(A[i, :i], x_po_iteraci[:i])\n",
    "            s2 = np.dot(A[i, i + 1 :], x[i + 1 :])\n",
    "            x_po_iteraci[i] = (b[i] - s1 - s2) / A[i, i]\n",
    "\n",
    "        if np.allclose(x, x_po_iteraci, rtol=tolerance):\n",
    "            break\n",
    "        x = x_po_iteraci \n",
    "    return x\n",
    "\n",
    "def gauss_seidel(A, b, niteraci, x0=np.ones(len(A))):\n",
    "    x = x0\n",
    "    U = np.triu(A, k = 1)\n",
    "    Lstar = np.tril(A, k = 0)               #D + L\n",
    "    T = np.matmul(-np.linalg.inv(Lstar), U) #T = -invL* . U\n",
    "    C = np.matmul(np.linalg.inv(Lstar), b)  #C = invL . b\n",
    "    for i in range(niteraci):\n",
    "        x = np.matmul(T, x) + C             #inv(D+L).(b-U.x) = inv(Lstar).(b-U.x) = C + T => x = Tx + C\n",
    "        print(\"iterace:\",i, \"x=\",x)\n",
    "    return x\n",
    "\n",
    "print(\"Řešení iterační metodou:\")\n",
    "print(gaussova_seidelova_iterace(A,a))\n",
    "print(gaussova_seidelova_iterace(B,b))\n",
    "print(gaussova_seidelova_iterace(C,c))\n",
    "print(gaussova_seidelova_iterace(D,d))\n",
    "print(gaussova_seidelova_iterace(E,e))\n"
   ]
  },
  {
   "cell_type": "code",
   "execution_count": 4,
   "metadata": {},
   "outputs": [
    {
     "name": "stdout",
     "output_type": "stream",
     "text": [
      "[[9 2 2]\n",
      " [2 3 7]\n",
      " [9 5 5]]\n",
      "[2 7 9]\n"
     ]
    }
   ],
   "source": [
    "import numpy as np\n",
    "\n",
    "def generuj_ctvercovoumatici(velikost, min_hodnota=1, max_hodnota=10):\n",
    "    return np.random.randint(min_hodnota, max_hodnota, (velikost, velikost))\n",
    "\n",
    "def generuj_pravoustranu(velikost, min_hodnota=1, max_hodnota=10):\n",
    "    return np.random.randint(min_hodnota, max_hodnota, velikost)\n",
    "\n",
    "A = generuj_ctvercovoumatici(3)\n",
    "a = generuj_pravoustranu(3)\n",
    "print(A)\n",
    "print(a)\n"
   ]
  },
  {
   "cell_type": "code",
   "execution_count": 109,
   "metadata": {},
   "outputs": [
    {
     "name": "stdout",
     "output_type": "stream",
     "text": [
      "[nan nan nan nan nan]\n"
     ]
    },
    {
     "name": "stderr",
     "output_type": "stream",
     "text": [
      "C:\\Users\\filip\\AppData\\Local\\Temp\\ipykernel_20188\\618221918.py:9: RuntimeWarning: divide by zero encountered in scalar divide\n",
      "  x_po_iteraci[i] = (b[i] - s1 - s2) / A[i, i]\n"
     ]
    }
   ],
   "source": [
    "def gaussova_seidelova_iterace(A, b, tolerance=1e-10, max_iteraci=1000):\n",
    "    x = np.random.rand(len(b))  # Inicializace vektoru řešení náhodnými hodnotami\n",
    "    for pocet_iteraci in range(1, max_iteraci+1):\n",
    "\n",
    "        x_po_iteraci = np.zeros_like(x, dtype=np.float_)\n",
    "        for i in range(A.shape[0]):\n",
    "            s1 = np.dot(A[i, :i], x_po_iteraci[:i])\n",
    "            s2 = np.dot(A[i, i + 1 :], x[i + 1 :])\n",
    "            x_po_iteraci[i] = (b[i] - s1 - s2) / A[i, i]\n",
    "\n",
    "        # Přiřazení nového řešení\n",
    "        x = x_po_iteraci \n",
    "\n",
    "        # Kritérium ukončení: pevný počet iterací\n",
    "        if pocet_iteraci >= max_iteraci:\n",
    "            break\n",
    "            \n",
    "    return x\n",
    "\n",
    "E = np.array([[5,7,9,-28,1],\n",
    "              [-3,0,12,5,0],\n",
    "              [2,7,19,-23,1],\n",
    "              [1,1,1,-1,1],\n",
    "              [0,5,17,-21,3]])\n",
    "e = np.array([-14,25,11,0,11])\n",
    "print(gaussova_seidelova_iterace(E,e))\n",
    "\n"
   ]
  },
  {
   "cell_type": "code",
   "execution_count": 132,
   "metadata": {},
   "outputs": [
    {
     "name": "stdout",
     "output_type": "stream",
     "text": [
      "[2.]\n"
     ]
    }
   ],
   "source": [
    "# Matice 1x1\n",
    "import time\n",
    "import numpy as np\n",
    "A = np.array([[1]])\n",
    "a = np.array([2])\n",
    "\n",
    "start = time.perf_counter()\n",
    "def gaussova_eliminacni_metoda(A, b):\n",
    "    pocet_rovnic = len(A)\n",
    "    rozsirena_matice = np.column_stack((A, b)).astype(np.float64)  \n",
    "    for i in range(pocet_rovnic):\n",
    "        if rozsirena_matice[i, i] == 0.0:\n",
    "            print(\"Dělíš nulou!!!\")\n",
    "        for j in range(i + 1, pocet_rovnic):\n",
    "            pomer = rozsirena_matice[j, i] / rozsirena_matice[i, i]\n",
    "            rozsirena_matice[j] -= pomer * rozsirena_matice[i]\n",
    "\n",
    "    x = np.zeros(pocet_rovnic) \n",
    "    for i in range(pocet_rovnic - 1, -1, -1): \n",
    "        x[i] = (rozsirena_matice[i, -1] - np.dot(rozsirena_matice[i, :-1], x)) / rozsirena_matice[i, i] \n",
    "    \n",
    "    return x\n",
    "\n",
    "a_prima = gaussova_eliminacni_metoda(A,a)\n",
    "end = time.perf_counter()\n",
    "print(a_prima)\n",
    "cas_a_prima = end-start\n",
    "\n",
    "\n",
    "\n",
    "\n"
   ]
  },
  {
   "cell_type": "code",
   "execution_count": 131,
   "metadata": {},
   "outputs": [
    {
     "name": "stdout",
     "output_type": "stream",
     "text": [
      "[2.]\n"
     ]
    }
   ],
   "source": [
    "# Matice 2x2\n",
    "import time\n",
    "import numpy as np\n",
    "B = np.array([[1,1],\n",
    "             [2,-1]])\n",
    "b = np.array([8,1])\n",
    "\n",
    "start = time.perf_counter()\n",
    "def gaussova_eliminacni_metoda(A, b):\n",
    "    pocet_rovnic = len(A)\n",
    "    rozsirena_matice = np.column_stack((A, b)).astype(np.float64)  \n",
    "    for i in range(pocet_rovnic):\n",
    "        if rozsirena_matice[i, i] == 0.0:\n",
    "            print(\"Dělíš nulou!!!\")\n",
    "        for j in range(i + 1, pocet_rovnic):\n",
    "            pomer = rozsirena_matice[j, i] / rozsirena_matice[i, i]\n",
    "            rozsirena_matice[j] -= pomer * rozsirena_matice[i]\n",
    "\n",
    "    x = np.zeros(pocet_rovnic) \n",
    "    for i in range(pocet_rovnic - 1, -1, -1): \n",
    "        x[i] = (rozsirena_matice[i, -1] - np.dot(rozsirena_matice[i, :-1], x)) / rozsirena_matice[i, i] \n",
    "    \n",
    "    return x\n",
    "\n",
    "b_prima = gaussova_eliminacni_metoda(B,b)\n",
    "end = time.perf_counter()\n",
    "print(a_prima)\n",
    "cas_b_prima = end-start"
   ]
  },
  {
   "cell_type": "code",
   "execution_count": 130,
   "metadata": {},
   "outputs": [
    {
     "name": "stdout",
     "output_type": "stream",
     "text": [
      "[2.]\n"
     ]
    }
   ],
   "source": [
    "# Matice 3x3\n",
    "import numpy as np\n",
    "import time\n",
    "C = np.array([[3,-2,5],\n",
    "              [1,1,2],\n",
    "              [-2,1,-6]])\n",
    "c = np.array([-7,4,6])\n",
    "\n",
    "start = time.perf_counter()\n",
    "def gaussova_eliminacni_metoda(A, b):\n",
    "    pocet_rovnic = len(A)\n",
    "    rozsirena_matice = np.column_stack((A, b)).astype(np.float64)  \n",
    "    for i in range(pocet_rovnic):\n",
    "        if rozsirena_matice[i, i] == 0.0:\n",
    "            print(\"Dělíš nulou!!!\")\n",
    "        for j in range(i + 1, pocet_rovnic):\n",
    "            pomer = rozsirena_matice[j, i] / rozsirena_matice[i, i]\n",
    "            rozsirena_matice[j] -= pomer * rozsirena_matice[i]\n",
    "\n",
    "    x = np.zeros(pocet_rovnic) \n",
    "    for i in range(pocet_rovnic - 1, -1, -1): \n",
    "        x[i] = (rozsirena_matice[i, -1] - np.dot(rozsirena_matice[i, :-1], x)) / rozsirena_matice[i, i] \n",
    "    \n",
    "    return x\n",
    "\n",
    "c_prima = gaussova_eliminacni_metoda(C,c)\n",
    "end = time.perf_counter()\n",
    "print(a_prima)\n",
    "cas_c_prima = end-start"
   ]
  },
  {
   "cell_type": "code",
   "execution_count": 129,
   "metadata": {},
   "outputs": [
    {
     "name": "stdout",
     "output_type": "stream",
     "text": [
      "[2.]\n"
     ]
    }
   ],
   "source": [
    "# Matice 4x4\n",
    "import numpy as np\n",
    "import time\n",
    "D = np.array([[10, -1, 2, 0],\n",
    "        [-1, 11, -1, 3],\n",
    "        [2, -1, 10, -1],\n",
    "        [0, 3, -1, 8]])\n",
    "d = np.array([6, 25, -11, 15])\n",
    "\n",
    "start = time.perf_counter()\n",
    "def gaussova_eliminacni_metoda(A, b):\n",
    "    pocet_rovnic = len(A)\n",
    "    rozsirena_matice = np.column_stack((A, b)).astype(np.float64)  \n",
    "    for i in range(pocet_rovnic):\n",
    "        if rozsirena_matice[i, i] == 0.0:\n",
    "            print(\"Dělíš nulou!!!\")\n",
    "        for j in range(i + 1, pocet_rovnic):\n",
    "            pomer = rozsirena_matice[j, i] / rozsirena_matice[i, i]\n",
    "            rozsirena_matice[j] -= pomer * rozsirena_matice[i]\n",
    "\n",
    "    x = np.zeros(pocet_rovnic) \n",
    "    for i in range(pocet_rovnic - 1, -1, -1): \n",
    "        x[i] = (rozsirena_matice[i, -1] - np.dot(rozsirena_matice[i, :-1], x)) / rozsirena_matice[i, i] \n",
    "    \n",
    "    return x\n",
    "\n",
    "d_prima = gaussova_eliminacni_metoda(D,d)\n",
    "end = time.perf_counter()\n",
    "print(a_prima)\n",
    "cas_d_prima = end-start"
   ]
  },
  {
   "cell_type": "code",
   "execution_count": 128,
   "metadata": {},
   "outputs": [
    {
     "name": "stdout",
     "output_type": "stream",
     "text": [
      "[2.]\n"
     ]
    }
   ],
   "source": [
    "# Matice 5x5\n",
    "import numpy as np\n",
    "import time\n",
    "E = np.array([[5,7,9,-28,1],\n",
    "              [-3,0,12,5,0],\n",
    "              [2,7,19,-23,1],\n",
    "              [1,1,1,-1,1],\n",
    "              [0,5,17,-21,3]])\n",
    "e = np.array([-14,25,11,0,11])\n",
    "\n",
    "start = time.perf_counter()\n",
    "def gaussova_eliminacni_metoda(A, b):\n",
    "    pocet_rovnic = len(A)\n",
    "    rozsirena_matice = np.column_stack((A, b)).astype(np.float64)  \n",
    "    for i in range(pocet_rovnic):\n",
    "        if rozsirena_matice[i, i] == 0.0:\n",
    "            print(\"Dělíš nulou!!!\")\n",
    "        for j in range(i + 1, pocet_rovnic):\n",
    "            pomer = rozsirena_matice[j, i] / rozsirena_matice[i, i]\n",
    "            rozsirena_matice[j] -= pomer * rozsirena_matice[i]\n",
    "\n",
    "    x = np.zeros(pocet_rovnic) \n",
    "    for i in range(pocet_rovnic - 1, -1, -1): \n",
    "        x[i] = (rozsirena_matice[i, -1] - np.dot(rozsirena_matice[i, :-1], x)) / rozsirena_matice[i, i] \n",
    "    \n",
    "    return x\n",
    "\n",
    "e_prima = gaussova_eliminacni_metoda(E,e)\n",
    "end = time.perf_counter()\n",
    "print(a_prima)\n",
    "cas_e_prima = end-start"
   ]
  },
  {
   "cell_type": "code",
   "execution_count": 115,
   "metadata": {},
   "outputs": [
    {
     "name": "stdout",
     "output_type": "stream",
     "text": [
      "[2.]\n"
     ]
    }
   ],
   "source": [
    "# Matice 1x1 \n",
    "import time\n",
    "import numpy as np\n",
    "A = np.array([[1]])\n",
    "a = np.array([2])\n",
    "\n",
    "start = time.perf_counter()\n",
    "def gaussova_seidelova_iterace(A, b, tolerance=1e-10, max_iteraci=1000):\n",
    "    x = np.zeros_like(b, np.float_) \n",
    "    for pocet_iteraci in range(1, max_iteraci+1):\n",
    "        x_po_iteraci = np.zeros_like(x, dtype=np.float_)\n",
    "        for i in range(A.shape[0]):\n",
    "            s1 = np.dot(A[i, :i], x_po_iteraci[:i])\n",
    "            s2 = np.dot(A[i, i + 1 :], x[i + 1 :])\n",
    "            x_po_iteraci[i] = (b[i] - s1 - s2) / A[i, i]\n",
    "\n",
    "        if np.allclose(x, x_po_iteraci, rtol=tolerance):\n",
    "            break\n",
    "        x = x_po_iteraci \n",
    "    return x\n",
    "\n",
    "a_iteracni = gaussova_seidelova_iterace(A,a)\n",
    "end = time.perf_counter()\n",
    "print(a_iteracni)\n",
    "cas_a_iteracni = end-start\n",
    "\n",
    "\n"
   ]
  },
  {
   "cell_type": "code",
   "execution_count": 127,
   "metadata": {},
   "outputs": [
    {
     "name": "stdout",
     "output_type": "stream",
     "text": [
      "[nan nan nan nan nan]\n"
     ]
    }
   ],
   "source": [
    "# Matice 2x2\n",
    "import time\n",
    "import numpy as np\n",
    "B = np.array([[1,1],\n",
    "             [2,-1]])\n",
    "b = np.array([8,1])\n",
    "\n",
    "start = time.perf_counter()\n",
    "def gaussova_seidelova_iterace(A, b, tolerance=1e-10, max_iteraci=1000):\n",
    "    x = np.zeros_like(b, np.float_) \n",
    "    for pocet_iteraci in range(1, max_iteraci+1):\n",
    "        x_po_iteraci = np.zeros_like(x, dtype=np.float_)\n",
    "        for i in range(A.shape[0]):\n",
    "            s1 = np.dot(A[i, :i], x_po_iteraci[:i])\n",
    "            s2 = np.dot(A[i, i + 1 :], x[i + 1 :])\n",
    "            x_po_iteraci[i] = (b[i] - s1 - s2) / A[i, i]\n",
    "\n",
    "        if np.allclose(x, x_po_iteraci, rtol=tolerance):\n",
    "            break\n",
    "        x = x_po_iteraci \n",
    "    return x\n",
    "\n",
    "b_iteracni = gaussova_seidelova_iterace(B,b)\n",
    "end = time.perf_counter()\n",
    "print(-1 * a_iteracni)\n",
    "cas_b_iteracni = end-start\n"
   ]
  },
  {
   "cell_type": "code",
   "execution_count": 126,
   "metadata": {},
   "outputs": [
    {
     "name": "stdout",
     "output_type": "stream",
     "text": [
      "[nan nan nan nan nan]\n"
     ]
    }
   ],
   "source": [
    "# Matice 3x3\n",
    "import time\n",
    "import numpy as np\n",
    "C = np.array([[3,-2,5],\n",
    "              [1,1,2],\n",
    "              [-2,1,-6]])\n",
    "c = np.array([-7,4,6])\n",
    "start = time.perf_counter()\n",
    "def gaussova_seidelova_iterace(A, b, tolerance=1e-10, max_iteraci=1000):\n",
    "    x = np.zeros_like(b, np.float_) \n",
    "    for pocet_iteraci in range(1, max_iteraci+1):\n",
    "        x_po_iteraci = np.zeros_like(x, dtype=np.float_)\n",
    "        for i in range(A.shape[0]):\n",
    "            s1 = np.dot(A[i, :i], x_po_iteraci[:i])\n",
    "            s2 = np.dot(A[i, i + 1 :], x[i + 1 :])\n",
    "            x_po_iteraci[i] = (b[i] - s1 - s2) / A[i, i]\n",
    "\n",
    "        if np.allclose(x, x_po_iteraci, rtol=tolerance):\n",
    "            break\n",
    "        x = x_po_iteraci \n",
    "    return x\n",
    "\n",
    "c_iteracni = gaussova_seidelova_iterace(C,c)\n",
    "end = time.perf_counter()\n",
    "print(-1 * a_iteracni)\n",
    "cas_c_iteracni = end-start"
   ]
  },
  {
   "cell_type": "code",
   "execution_count": 125,
   "metadata": {},
   "outputs": [
    {
     "name": "stdout",
     "output_type": "stream",
     "text": [
      "[nan nan nan nan nan]\n"
     ]
    }
   ],
   "source": [
    "# Matice 4x4\n",
    "import time\n",
    "import numpy as np\n",
    "D = np.array([[10, -1, 2, 0],\n",
    "        [-1, 11, -1, 3],\n",
    "        [2, -1, 10, -1],\n",
    "        [0, 3, -1, 8]])\n",
    "d = np.array([6, 25, -11, 15])\n",
    "start = time.perf_counter()\n",
    "def gaussova_seidelova_iterace(A, b, tolerance=1e-10, max_iteraci=1000):\n",
    "    x = np.zeros_like(b, np.float_) \n",
    "    for pocet_iteraci in range(1, max_iteraci+1):\n",
    "        x_po_iteraci = np.zeros_like(x, dtype=np.float_)\n",
    "        for i in range(A.shape[0]):\n",
    "            s1 = np.dot(A[i, :i], x_po_iteraci[:i])\n",
    "            s2 = np.dot(A[i, i + 1 :], x[i + 1 :])\n",
    "            x_po_iteraci[i] = (b[i] - s1 - s2) / A[i, i]\n",
    "\n",
    "        if np.allclose(x, x_po_iteraci, rtol=tolerance):\n",
    "            break\n",
    "        x = x_po_iteraci \n",
    "    return x\n",
    "\n",
    "d_iteracni = gaussova_seidelova_iterace(D,d)\n",
    "end = time.perf_counter()\n",
    "print(-1 * a_iteracni)\n",
    "cas_d_iteracni = end-start"
   ]
  },
  {
   "cell_type": "code",
   "execution_count": 124,
   "metadata": {},
   "outputs": [
    {
     "name": "stdout",
     "output_type": "stream",
     "text": [
      "[nan nan nan nan nan]\n"
     ]
    }
   ],
   "source": [
    "# Matice 5x5\n",
    "import time\n",
    "import numpy as np\n",
    "E = np.array([[-3,0,12,5,0],\n",
    "              [5,7,9,-28,1],\n",
    "              [2,7,19,-23,1],\n",
    "              [1,1,1,-1,1],\n",
    "              [0,5,17,-21,3]])\n",
    "e = np.array([-14,25,11,0,11])\n",
    "start = time.perf_counter()\n",
    "def gaussova_seidelova_iterace(A, b, tolerance=1e-10, max_iteraci=1000):\n",
    "    x = np.zeros_like(b, np.float_) \n",
    "    for pocet_iteraci in range(1, max_iteraci+1):\n",
    "        x_po_iteraci = np.zeros_like(x, dtype=np.float_)\n",
    "        for i in range(A.shape[0]):\n",
    "            s1 = np.dot(A[i, :i], x_po_iteraci[:i])\n",
    "            s2 = np.dot(A[i, i + 1 :], x[i + 1 :])\n",
    "            x_po_iteraci[i] = (b[i] - s1 - s2) / A[i, i]\n",
    "\n",
    "        if np.allclose(x, x_po_iteraci, rtol=tolerance):\n",
    "            break\n",
    "        x = x_po_iteraci \n",
    "    return x\n",
    "\n",
    "e_iteracni = gaussova_seidelova_iterace(E,e)\n",
    "end = time.perf_counter()\n",
    "print(-1 * a_iteracni)\n",
    "cas_e_iteracni = end-start"
   ]
  },
  {
   "cell_type": "code",
   "execution_count": 136,
   "metadata": {},
   "outputs": [
    {
     "ename": "ValueError",
     "evalue": "x and y must be the same size",
     "output_type": "error",
     "traceback": [
      "\u001b[1;31m---------------------------------------------------------------------------\u001b[0m",
      "\u001b[1;31mValueError\u001b[0m                                Traceback (most recent call last)",
      "Cell \u001b[1;32mIn[136], line 7\u001b[0m\n\u001b[0;32m      4\u001b[0m casy_iteracni \u001b[38;5;241m=\u001b[39m [cas_a_iteracni,cas_c_iteracni,cas_d_iteracni]\n\u001b[0;32m      6\u001b[0m plt\u001b[38;5;241m.\u001b[39mfigure(figsize\u001b[38;5;241m=\u001b[39m(\u001b[38;5;241m10\u001b[39m,\u001b[38;5;241m6\u001b[39m))\n\u001b[1;32m----> 7\u001b[0m \u001b[43mplt\u001b[49m\u001b[38;5;241;43m.\u001b[39;49m\u001b[43mscatter\u001b[49m\u001b[43m(\u001b[49m\u001b[43mmatice\u001b[49m\u001b[43m,\u001b[49m\u001b[43mcasy_prima\u001b[49m\u001b[43m,\u001b[49m\u001b[38;5;124;43m\"\u001b[39;49m\u001b[38;5;124;43mo\u001b[39;49m\u001b[38;5;124;43m\"\u001b[39;49m\u001b[43m,\u001b[49m\u001b[43mcolor\u001b[49m\u001b[38;5;241;43m=\u001b[39;49m\u001b[38;5;124;43m\"\u001b[39;49m\u001b[38;5;124;43mr\u001b[39;49m\u001b[38;5;124;43m\"\u001b[39;49m\u001b[43m)\u001b[49m\n\u001b[0;32m      8\u001b[0m plt\u001b[38;5;241m.\u001b[39mscatter(matice,casy_iteracni,\u001b[38;5;124m\"\u001b[39m\u001b[38;5;124mo\u001b[39m\u001b[38;5;124m\"\u001b[39m,color\u001b[38;5;241m=\u001b[39m\u001b[38;5;124m\"\u001b[39m\u001b[38;5;124mb\u001b[39m\u001b[38;5;124m\"\u001b[39m)\n\u001b[0;32m      9\u001b[0m plt\u001b[38;5;241m.\u001b[39mshow()\n",
      "File \u001b[1;32mc:\\Users\\filip\\AppData\\Local\\Programs\\Python\\Python312\\Lib\\site-packages\\matplotlib\\pyplot.py:3699\u001b[0m, in \u001b[0;36mscatter\u001b[1;34m(x, y, s, c, marker, cmap, norm, vmin, vmax, alpha, linewidths, edgecolors, plotnonfinite, data, **kwargs)\u001b[0m\n\u001b[0;32m   3680\u001b[0m \u001b[38;5;129m@_copy_docstring_and_deprecators\u001b[39m(Axes\u001b[38;5;241m.\u001b[39mscatter)\n\u001b[0;32m   3681\u001b[0m \u001b[38;5;28;01mdef\u001b[39;00m \u001b[38;5;21mscatter\u001b[39m(\n\u001b[0;32m   3682\u001b[0m     x: \u001b[38;5;28mfloat\u001b[39m \u001b[38;5;241m|\u001b[39m ArrayLike,\n\u001b[1;32m   (...)\u001b[0m\n\u001b[0;32m   3697\u001b[0m     \u001b[38;5;241m*\u001b[39m\u001b[38;5;241m*\u001b[39mkwargs,\n\u001b[0;32m   3698\u001b[0m ) \u001b[38;5;241m-\u001b[39m\u001b[38;5;241m>\u001b[39m PathCollection:\n\u001b[1;32m-> 3699\u001b[0m     __ret \u001b[38;5;241m=\u001b[39m \u001b[43mgca\u001b[49m\u001b[43m(\u001b[49m\u001b[43m)\u001b[49m\u001b[38;5;241;43m.\u001b[39;49m\u001b[43mscatter\u001b[49m\u001b[43m(\u001b[49m\n\u001b[0;32m   3700\u001b[0m \u001b[43m        \u001b[49m\u001b[43mx\u001b[49m\u001b[43m,\u001b[49m\n\u001b[0;32m   3701\u001b[0m \u001b[43m        \u001b[49m\u001b[43my\u001b[49m\u001b[43m,\u001b[49m\n\u001b[0;32m   3702\u001b[0m \u001b[43m        \u001b[49m\u001b[43ms\u001b[49m\u001b[38;5;241;43m=\u001b[39;49m\u001b[43ms\u001b[49m\u001b[43m,\u001b[49m\n\u001b[0;32m   3703\u001b[0m \u001b[43m        \u001b[49m\u001b[43mc\u001b[49m\u001b[38;5;241;43m=\u001b[39;49m\u001b[43mc\u001b[49m\u001b[43m,\u001b[49m\n\u001b[0;32m   3704\u001b[0m \u001b[43m        \u001b[49m\u001b[43mmarker\u001b[49m\u001b[38;5;241;43m=\u001b[39;49m\u001b[43mmarker\u001b[49m\u001b[43m,\u001b[49m\n\u001b[0;32m   3705\u001b[0m \u001b[43m        \u001b[49m\u001b[43mcmap\u001b[49m\u001b[38;5;241;43m=\u001b[39;49m\u001b[43mcmap\u001b[49m\u001b[43m,\u001b[49m\n\u001b[0;32m   3706\u001b[0m \u001b[43m        \u001b[49m\u001b[43mnorm\u001b[49m\u001b[38;5;241;43m=\u001b[39;49m\u001b[43mnorm\u001b[49m\u001b[43m,\u001b[49m\n\u001b[0;32m   3707\u001b[0m \u001b[43m        \u001b[49m\u001b[43mvmin\u001b[49m\u001b[38;5;241;43m=\u001b[39;49m\u001b[43mvmin\u001b[49m\u001b[43m,\u001b[49m\n\u001b[0;32m   3708\u001b[0m \u001b[43m        \u001b[49m\u001b[43mvmax\u001b[49m\u001b[38;5;241;43m=\u001b[39;49m\u001b[43mvmax\u001b[49m\u001b[43m,\u001b[49m\n\u001b[0;32m   3709\u001b[0m \u001b[43m        \u001b[49m\u001b[43malpha\u001b[49m\u001b[38;5;241;43m=\u001b[39;49m\u001b[43malpha\u001b[49m\u001b[43m,\u001b[49m\n\u001b[0;32m   3710\u001b[0m \u001b[43m        \u001b[49m\u001b[43mlinewidths\u001b[49m\u001b[38;5;241;43m=\u001b[39;49m\u001b[43mlinewidths\u001b[49m\u001b[43m,\u001b[49m\n\u001b[0;32m   3711\u001b[0m \u001b[43m        \u001b[49m\u001b[43medgecolors\u001b[49m\u001b[38;5;241;43m=\u001b[39;49m\u001b[43medgecolors\u001b[49m\u001b[43m,\u001b[49m\n\u001b[0;32m   3712\u001b[0m \u001b[43m        \u001b[49m\u001b[43mplotnonfinite\u001b[49m\u001b[38;5;241;43m=\u001b[39;49m\u001b[43mplotnonfinite\u001b[49m\u001b[43m,\u001b[49m\n\u001b[0;32m   3713\u001b[0m \u001b[43m        \u001b[49m\u001b[38;5;241;43m*\u001b[39;49m\u001b[38;5;241;43m*\u001b[39;49m\u001b[43m(\u001b[49m\u001b[43m{\u001b[49m\u001b[38;5;124;43m\"\u001b[39;49m\u001b[38;5;124;43mdata\u001b[39;49m\u001b[38;5;124;43m\"\u001b[39;49m\u001b[43m:\u001b[49m\u001b[43m \u001b[49m\u001b[43mdata\u001b[49m\u001b[43m}\u001b[49m\u001b[43m \u001b[49m\u001b[38;5;28;43;01mif\u001b[39;49;00m\u001b[43m \u001b[49m\u001b[43mdata\u001b[49m\u001b[43m \u001b[49m\u001b[38;5;129;43;01mis\u001b[39;49;00m\u001b[43m \u001b[49m\u001b[38;5;129;43;01mnot\u001b[39;49;00m\u001b[43m \u001b[49m\u001b[38;5;28;43;01mNone\u001b[39;49;00m\u001b[43m \u001b[49m\u001b[38;5;28;43;01melse\u001b[39;49;00m\u001b[43m \u001b[49m\u001b[43m{\u001b[49m\u001b[43m}\u001b[49m\u001b[43m)\u001b[49m\u001b[43m,\u001b[49m\n\u001b[0;32m   3714\u001b[0m \u001b[43m        \u001b[49m\u001b[38;5;241;43m*\u001b[39;49m\u001b[38;5;241;43m*\u001b[39;49m\u001b[43mkwargs\u001b[49m\u001b[43m,\u001b[49m\n\u001b[0;32m   3715\u001b[0m \u001b[43m    \u001b[49m\u001b[43m)\u001b[49m\n\u001b[0;32m   3716\u001b[0m     sci(__ret)\n\u001b[0;32m   3717\u001b[0m     \u001b[38;5;28;01mreturn\u001b[39;00m __ret\n",
      "File \u001b[1;32mc:\\Users\\filip\\AppData\\Local\\Programs\\Python\\Python312\\Lib\\site-packages\\matplotlib\\__init__.py:1478\u001b[0m, in \u001b[0;36m_preprocess_data.<locals>.inner\u001b[1;34m(ax, data, *args, **kwargs)\u001b[0m\n\u001b[0;32m   1475\u001b[0m \u001b[38;5;129m@functools\u001b[39m\u001b[38;5;241m.\u001b[39mwraps(func)\n\u001b[0;32m   1476\u001b[0m \u001b[38;5;28;01mdef\u001b[39;00m \u001b[38;5;21minner\u001b[39m(ax, \u001b[38;5;241m*\u001b[39margs, data\u001b[38;5;241m=\u001b[39m\u001b[38;5;28;01mNone\u001b[39;00m, \u001b[38;5;241m*\u001b[39m\u001b[38;5;241m*\u001b[39mkwargs):\n\u001b[0;32m   1477\u001b[0m     \u001b[38;5;28;01mif\u001b[39;00m data \u001b[38;5;129;01mis\u001b[39;00m \u001b[38;5;28;01mNone\u001b[39;00m:\n\u001b[1;32m-> 1478\u001b[0m         \u001b[38;5;28;01mreturn\u001b[39;00m \u001b[43mfunc\u001b[49m\u001b[43m(\u001b[49m\u001b[43max\u001b[49m\u001b[43m,\u001b[49m\u001b[43m \u001b[49m\u001b[38;5;241;43m*\u001b[39;49m\u001b[38;5;28;43mmap\u001b[39;49m\u001b[43m(\u001b[49m\u001b[43msanitize_sequence\u001b[49m\u001b[43m,\u001b[49m\u001b[43m \u001b[49m\u001b[43margs\u001b[49m\u001b[43m)\u001b[49m\u001b[43m,\u001b[49m\u001b[43m \u001b[49m\u001b[38;5;241;43m*\u001b[39;49m\u001b[38;5;241;43m*\u001b[39;49m\u001b[43mkwargs\u001b[49m\u001b[43m)\u001b[49m\n\u001b[0;32m   1480\u001b[0m     bound \u001b[38;5;241m=\u001b[39m new_sig\u001b[38;5;241m.\u001b[39mbind(ax, \u001b[38;5;241m*\u001b[39margs, \u001b[38;5;241m*\u001b[39m\u001b[38;5;241m*\u001b[39mkwargs)\n\u001b[0;32m   1481\u001b[0m     auto_label \u001b[38;5;241m=\u001b[39m (bound\u001b[38;5;241m.\u001b[39marguments\u001b[38;5;241m.\u001b[39mget(label_namer)\n\u001b[0;32m   1482\u001b[0m                   \u001b[38;5;129;01mor\u001b[39;00m bound\u001b[38;5;241m.\u001b[39mkwargs\u001b[38;5;241m.\u001b[39mget(label_namer))\n",
      "File \u001b[1;32mc:\\Users\\filip\\AppData\\Local\\Programs\\Python\\Python312\\Lib\\site-packages\\matplotlib\\axes\\_axes.py:4655\u001b[0m, in \u001b[0;36mAxes.scatter\u001b[1;34m(self, x, y, s, c, marker, cmap, norm, vmin, vmax, alpha, linewidths, edgecolors, plotnonfinite, **kwargs)\u001b[0m\n\u001b[0;32m   4653\u001b[0m y \u001b[38;5;241m=\u001b[39m np\u001b[38;5;241m.\u001b[39mma\u001b[38;5;241m.\u001b[39mravel(y)\n\u001b[0;32m   4654\u001b[0m \u001b[38;5;28;01mif\u001b[39;00m x\u001b[38;5;241m.\u001b[39msize \u001b[38;5;241m!=\u001b[39m y\u001b[38;5;241m.\u001b[39msize:\n\u001b[1;32m-> 4655\u001b[0m     \u001b[38;5;28;01mraise\u001b[39;00m \u001b[38;5;167;01mValueError\u001b[39;00m(\u001b[38;5;124m\"\u001b[39m\u001b[38;5;124mx and y must be the same size\u001b[39m\u001b[38;5;124m\"\u001b[39m)\n\u001b[0;32m   4657\u001b[0m \u001b[38;5;28;01mif\u001b[39;00m s \u001b[38;5;129;01mis\u001b[39;00m \u001b[38;5;28;01mNone\u001b[39;00m:\n\u001b[0;32m   4658\u001b[0m     s \u001b[38;5;241m=\u001b[39m (\u001b[38;5;241m20\u001b[39m \u001b[38;5;28;01mif\u001b[39;00m mpl\u001b[38;5;241m.\u001b[39mrcParams[\u001b[38;5;124m'\u001b[39m\u001b[38;5;124m_internal.classic_mode\u001b[39m\u001b[38;5;124m'\u001b[39m] \u001b[38;5;28;01melse\u001b[39;00m\n\u001b[0;32m   4659\u001b[0m          mpl\u001b[38;5;241m.\u001b[39mrcParams[\u001b[38;5;124m'\u001b[39m\u001b[38;5;124mlines.markersize\u001b[39m\u001b[38;5;124m'\u001b[39m] \u001b[38;5;241m*\u001b[39m\u001b[38;5;241m*\u001b[39m \u001b[38;5;241m2.0\u001b[39m)\n",
      "\u001b[1;31mValueError\u001b[0m: x and y must be the same size"
     ]
    },
    {
     "data": {
      "image/png": "[encoded data removed]",
      "text/plain": [
       "<Figure size 1000x600 with 1 Axes>"
      ]
     },
     "metadata": {},
     "output_type": "display_data"
    }
   ],
   "source": [
    "import matplotlib.pyplot as plt\n",
    "matice = [\"1x1\",\"2x2\",\"3x3\",\"4x4\",\"5x5\"]\n",
    "casy_prima = [cas_a_prima,cas_c_prima,cas_d_prima]\n",
    "casy_iteracni = [cas_a_iteracni,cas_c_iteracni,cas_d_iteracni]\n",
    "\n",
    "plt.figure(figsize=(10,6))\n",
    "plt.scatter(matice,casy_prima,\"o\",color=\"r\")\n",
    "plt.scatter(matice,casy_iteracni,\"o\",color=\"b\")\n",
    "plt.show()\n",
    "\n"
   ]
  }
 ],
 "metadata": {
  "kernelspec": {
   "display_name": "Python 3",
   "language": "python",
   "name": "python3"
  },
  "language_info": {
   "codemirror_mode": {
    "name": "ipython",
    "version": 3
   },
   "file_extension": ".py",
   "mimetype": "text/x-python",
   "name": "python",
   "nbconvert_exporter": "python",
   "pygments_lexer": "ipython3",
   "version": "3.12.2"
  }
 },
 "nbformat": 4,
 "nbformat_minor": 2
}
