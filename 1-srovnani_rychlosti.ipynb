{
 "cells": [
  {
   "cell_type": "markdown",
   "metadata": {},
   "source": [
    "1. skalární součin"
   ]
  },
  {
   "cell_type": "code",
   "execution_count": 4,
   "metadata": {},
   "outputs": [
    {
     "name": "stdout",
     "output_type": "stream",
     "text": [
      "výpočet = 4, čas = 0.00012400001287460327 sekund\n",
      "0.00012400001287460327\n"
     ]
    }
   ],
   "source": [
    "# a)\n",
    "from typing import List\n",
    "import time\n",
    "\n",
    "start = time.perf_counter()\n",
    "\n",
    "def skalarni_soucin(u:List[int],v:List[int]) -> int:\n",
    "    skalarni_soucin = 0\n",
    "    if len(u) != len(v):\n",
    "        return \"Vektory musí mít stejnou dimenzi!\"\n",
    "    for i in range(len(u)):\n",
    "        skalarni_soucin += u[i]*v[i]\n",
    "    return skalarni_soucin\n",
    "\n",
    "end = time.perf_counter()\n",
    "\n",
    "cas_1_a = end - start\n",
    "\n",
    "print(f\"výpočet = {skalarni_soucin([1,1,1,1],[1,1,1,1])}, čas = {end - start} sekund\")\n",
    "print(cas_1_a)\n",
    "\n"
   ]
  },
  {
   "cell_type": "code",
   "execution_count": 5,
   "metadata": {},
   "outputs": [
    {
     "name": "stdout",
     "output_type": "stream",
     "text": [
      "výpočet = 4, čas = 0.00015890004578977823 sekund\n"
     ]
    }
   ],
   "source": [
    "# b)\n",
    "import numpy as np\n",
    "import time\n",
    "\n",
    "start = time.perf_counter()\n",
    "\n",
    "def skalarni_soucin(u,v):\n",
    "    skalarni_soucin = np.dot(u,v)\n",
    "    return skalarni_soucin\n",
    "\n",
    "\n",
    "u = np.array([1,1,1,1])\n",
    "v = np.array([1,1,1,1])\n",
    "skalarni_soucin(u,v)\n",
    "\n",
    "end = time.perf_counter()\n",
    "\n",
    "cas_1_b = end - start\n",
    "\n",
    "print(f\"výpočet = {skalarni_soucin(u,v)}, čas = {end - start} sekund\")"
   ]
  },
  {
   "cell_type": "markdown",
   "metadata": {},
   "source": [
    "2. NORMA VEKTORU"
   ]
  },
  {
   "cell_type": "code",
   "execution_count": 6,
   "metadata": {},
   "outputs": [
    {
     "name": "stdout",
     "output_type": "stream",
     "text": [
      "výpočet = 3.7416573867739413, čas = 0.00010160007514059544 sekund\n"
     ]
    }
   ],
   "source": [
    "# a) \n",
    "import time\n",
    "from typing import List\n",
    "\n",
    "start = time.perf_counter()\n",
    "\n",
    "def norma_vektoru(u: List[int]) -> int:\n",
    "    norma = 0\n",
    "    for i in range(len(u)):\n",
    "        norma += u[i] * u[i]\n",
    "    norma = norma ** 0.5\n",
    "    return norma\n",
    "\n",
    "end = time.perf_counter()\n",
    "\n",
    "cas_2_a = end - start\n",
    "\n",
    "print(f\"výpočet = {norma_vektoru([1,2,3])}, čas = {end - start} sekund\")"
   ]
  },
  {
   "cell_type": "code",
   "execution_count": 7,
   "metadata": {},
   "outputs": [
    {
     "name": "stdout",
     "output_type": "stream",
     "text": [
      "výsledek = 3.7416573867739413, čas = 9.000010322779417e-05 sekund\n"
     ]
    }
   ],
   "source": [
    "# b)\n",
    "import time\n",
    "import numpy as np\n",
    "\n",
    "start = time.perf_counter()\n",
    "\n",
    "def norma_vektoru(v):\n",
    "    return np.linalg.norm(v)\n",
    "\n",
    "vektor = np.array([1, 2, 3])\n",
    "\n",
    "end = time.perf_counter()\n",
    "\n",
    "cas_2_b = end - start\n",
    "\n",
    "print(f\"výsledek = {norma_vektoru(vektor)}, čas = {end - start} sekund\")"
   ]
  },
  {
   "cell_type": "markdown",
   "metadata": {},
   "source": [
    "3. determinant"
   ]
  },
  {
   "cell_type": "code",
   "execution_count": 8,
   "metadata": {},
   "outputs": [
    {
     "name": "stdout",
     "output_type": "stream",
     "text": [
      "výsledek = 0, čas = 0.0001973999897018075 sekund\n"
     ]
    }
   ],
   "source": [
    "# a)\n",
    "import time\n",
    "\n",
    "start = time.perf_counter()\n",
    "\n",
    "def determinant(matice):\n",
    "    if len(matice) == 1:\n",
    "        determinant = matice[0][0]\n",
    "    if len(matice) == 2:\n",
    "        determinant = matice[0][0] * matice[1][1] - matice[0][1] * matice[1][0]\n",
    "    if len(matice) == 3:\n",
    "        determinant = matice[0][0] * matice[1][1] * matice[2][2] + matice[1][0] * matice[2][1] * matice[0][2] + matice[2][0] * matice[0][1] * matice[1][2] - ( matice[0][2] * matice[1][1] * matice[2][0] + matice[1][2] * matice[2][1] * matice[0][0] + matice[2][2] * matice[0][1] * matice[1][0] )\n",
    "    return determinant\n",
    "\n",
    "end = time.perf_counter()\n",
    "\n",
    "cas_3_a = end - start\n",
    "\n",
    "print(f\"výsledek = {determinant([[1,2,3],[4,5,6],[7,8,9]])}, čas = {end - start} sekund\")"
   ]
  },
  {
   "cell_type": "code",
   "execution_count": 9,
   "metadata": {},
   "outputs": [
    {
     "name": "stdout",
     "output_type": "stream",
     "text": [
      "výsledek = 0.0, čas = 0.0001050999853760004 sekund\n"
     ]
    }
   ],
   "source": [
    "# b)\n",
    "import time\n",
    "import numpy as np\n",
    "\n",
    "start = time.perf_counter()\n",
    "\n",
    "def determinant(matice):\n",
    "    return np.linalg.det(matice)\n",
    "\n",
    "matice = np.array([[1,2,3],\n",
    "                  [4,5,6],\n",
    "                  [7,8,9]])\n",
    "\n",
    "end = time.perf_counter()\n",
    "\n",
    "cas_3_b = end - start\n",
    "\n",
    "print(f\"výsledek = {determinant(matice)}, čas = {end - start} sekund\")"
   ]
  },
  {
   "cell_type": "markdown",
   "metadata": {},
   "source": [
    "4. výpočet určitého integrálu\n"
   ]
  },
  {
   "cell_type": "code",
   "execution_count": 10,
   "metadata": {},
   "outputs": [
    {
     "name": "stdout",
     "output_type": "stream",
     "text": [
      "Určitý integrál: 2.670000000000001, čas = 0.00016139994841068983 sekund\n"
     ]
    }
   ],
   "source": [
    "# a)\n",
    "import time \n",
    "\n",
    "start = time.perf_counter()\n",
    "\n",
    "def urcity_integral(f, a, b, n):\n",
    "   \n",
    "    integral = 0\n",
    "    x = a\n",
    "    while x < b:\n",
    "        integral += n * (f(x) + f(x+n))/2\n",
    "        x += n\n",
    "    return integral\n",
    "\n",
    "def f(x):\n",
    "    return x**2\n",
    "\n",
    "end = time.perf_counter()\n",
    "\n",
    "cas_4_a = end - start\n",
    "\n",
    "print(f\"Určitý integrál: {urcity_integral(f, 0, 2, 1/10)}, čas = {end - start} sekund\")\n"
   ]
  },
  {
   "cell_type": "code",
   "execution_count": 11,
   "metadata": {},
   "outputs": [
    {
     "name": "stdout",
     "output_type": "stream",
     "text": [
      "Určitý integrál: 2.2895000000000008, čas = 0.00012059998698532581 sekund\n"
     ]
    }
   ],
   "source": [
    "# b)\n",
    "import numpy as np\n",
    "import time\n",
    "\n",
    "start = time.perf_counter()\n",
    "\n",
    "def urcity_integral(f, a, b, n):\n",
    "    x_hodnoty = np.arange(a, b, n)\n",
    "    y_hodnoty = f(x_hodnoty)\n",
    "    integral = np.trapz(y_hodnoty,x_hodnoty)\n",
    "    return integral\n",
    "\n",
    "def f(x):\n",
    "    return x**2\n",
    "\n",
    "end = time.perf_counter()\n",
    "\n",
    "cas_4_b = end - start\n",
    "\n",
    "print(f\"Určitý integrál: {urcity_integral(f, 0, 2, 1/10)}, čas = {end - start} sekund\")\n"
   ]
  },
  {
   "cell_type": "markdown",
   "metadata": {},
   "source": [
    "5. výpočet odmocniny"
   ]
  },
  {
   "cell_type": "code",
   "execution_count": 12,
   "metadata": {},
   "outputs": [
    {
     "name": "stdout",
     "output_type": "stream",
     "text": [
      "výpočet = 1.6081044742180155, čas = 6.46000262349844e-05 sekund\n"
     ]
    }
   ],
   "source": [
    "# a)\n",
    "import time\n",
    "\n",
    "start = time.perf_counter()\n",
    "\n",
    "def vypocet_odmocniny(x):\n",
    "    return x ** 0.5\n",
    "\n",
    "end = time.perf_counter()\n",
    "\n",
    "cas_5_a = end - start\n",
    "\n",
    "print(f\"výpočet = {vypocet_odmocniny(2.586)}, čas = {end - start} sekund\")\n",
    "\n"
   ]
  },
  {
   "cell_type": "code",
   "execution_count": 13,
   "metadata": {},
   "outputs": [
    {
     "name": "stdout",
     "output_type": "stream",
     "text": [
      "výpočet = 1.6081044742180155, čas = 4.9900030717253685e-05 sekund\n"
     ]
    }
   ],
   "source": [
    "# b)\n",
    "import time\n",
    "import numpy as np\n",
    "\n",
    "start = time.perf_counter()\n",
    "\n",
    "def vypocet_odmocniny(x):\n",
    "    return np.sqrt(x)\n",
    "\n",
    "end = time.perf_counter()\n",
    "\n",
    "cas_5_b = end - start\n",
    "\n",
    "print(f\"výpočet = {vypocet_odmocniny(2.586)}, čas = {end - start} sekund\")\n"
   ]
  },
  {
   "cell_type": "code",
   "execution_count": 14,
   "metadata": {},
   "outputs": [],
   "source": [
    "import numpy as np\n",
    "import matplotlib as plt\n",
    "\n",
    "casy_a = [cas_1_a,cas_2_a,cas_3_a,cas_4_a,cas_5_a]\n",
    "casy_b = [cas_1_b,cas_2_b,cas_3_b,cas_4_b,cas_5_b]\n",
    "\n",
    "data = {\"Příklad\": [\"1\",\"2\",\"3\",\"4\",\"5\"],\n",
    "        \"Čas ve standardním pythonu\": casy_a,\n",
    "        \"Čas s knihovnou NumPY\": casy_b}"
   ]
  },
  {
   "cell_type": "code",
   "execution_count": 15,
   "metadata": {},
   "outputs": [
    {
     "data": {
      "image/png": "[encoded data removed]",
      "text/plain": [
       "<Figure size 600x400 with 1 Axes>"
      ]
     },
     "metadata": {},
     "output_type": "display_data"
    }
   ],
   "source": [
    "import matplotlib.pyplot as plt\n",
    "\n",
    "priklady = [\"1\", \"2\", \"3\", \"4\", \"5\"]\n",
    "popisky = [\"Skalární součin\",\"Norma vektoru\", \"Determinant matice\", \"Určitý integrál\", \"Odmocnina\"]\n",
    "cas_a = [cas_1_a, cas_2_a, cas_3_a, cas_4_a, cas_5_a]\n",
    "cas_b = [cas_1_b, cas_2_b, cas_3_b, cas_4_b, cas_5_b]\n",
    "\n",
    "plt.figure(figsize=(6, 4),)\n",
    "plt.scatter(priklady, cas_a, marker=\"o\",color=\"pink\",label=\"Standardní python\")\n",
    "plt.scatter(priklady, cas_b, marker=\"o\",color=\"purple\",label=\"Knihovna NumPy\")\n",
    "\n",
    "plt.ylabel(\"Čas (sekundy)\",fontweight=\"bold\",fontsize=6)\n",
    "plt.title(\"Srovnání časů výpočtů ve standardním Pythonu a s pomocí knihovny NumPy\",fontweight=\"bold\",fontsize=10)\n",
    "\n",
    "plt.xticks(range(len(priklady)), [f'{priklad}\\n{popisek}' for priklad, popisek in zip(priklady, popisky)],fontweight=\"bold\",fontsize=6)\n",
    "\n",
    "plt.grid(True)\n",
    "plt.legend(fontsize=6)\n",
    "\n",
    "plt.show()\n"
   ]
  }
 ],
 "metadata": {
  "kernelspec": {
   "display_name": "Python 3.10.7 64-bit",
   "language": "python",
   "name": "python3"
  },
  "language_info": {
   "codemirror_mode": {
    "name": "ipython",
    "version": 3
   },
   "file_extension": ".py",
   "mimetype": "text/x-python",
   "name": "python",
   "nbconvert_exporter": "python",
   "pygments_lexer": "ipython3",
   "version": "3.12.2"
  },
  "orig_nbformat": 4,
  "vscode": {
   "interpreter": {
    "hash": "83360eb80970754e3f174cfff64abb63721e9cdafa2962942bde9f2f2b190412"
   }
  }
 },
 "nbformat": 4,
 "nbformat_minor": 2
}
