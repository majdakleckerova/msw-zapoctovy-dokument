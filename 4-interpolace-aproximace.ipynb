{
 "cells": [
  {
   "cell_type": "code",
   "execution_count": 10,
   "metadata": {},
   "outputs": [
    {
     "name": "stdout",
     "output_type": "stream",
     "text": [
      "Náhodné body:\n",
      "x_points: [6 2 9]\n",
      "y_f: [18 10 45]\n",
      "y_g: [4.82831374 0.         6.23832463]\n",
      "y_h: [ 0.96017029 -0.41614684 -0.91113026]\n"
     ]
    }
   ],
   "source": [
    "# Generování náhodných bodů na intervalu [0, 10] jako celých čísel\n",
    "import numpy as np\n",
    "def f(x):\n",
    "    return x**2 - 6*x + 18\n",
    "def g(x):\n",
    "    return 3 * np.log(x - 1)\n",
    "def h(x):\n",
    "    return np.cos(x)\n",
    "\n",
    "num_points = 3\n",
    "x_points = np.random.randint(low=1, high=11, size=num_points)\n",
    "\n",
    "# Hodnoty funkcí v náhodných bodech\n",
    "y_f = f(x_points)\n",
    "y_g = g(x_points)\n",
    "y_h = h(x_points)\n",
    "\n",
    "print(\"Náhodné body:\")\n",
    "print(\"x_points:\", x_points)\n",
    "print(\"y_f:\", y_f)\n",
    "print(\"y_g:\", y_g)\n",
    "print(\"y_h:\", y_h)\n"
   ]
  }
 ],
 "metadata": {
  "kernelspec": {
   "display_name": "Python 3",
   "language": "python",
   "name": "python3"
  },
  "language_info": {
   "codemirror_mode": {
    "name": "ipython",
    "version": 3
   },
   "file_extension": ".py",
   "mimetype": "text/x-python",
   "name": "python",
   "nbconvert_exporter": "python",
   "pygments_lexer": "ipython3",
   "version": "3.12.2"
  }
 },
 "nbformat": 4,
 "nbformat_minor": 2
}
